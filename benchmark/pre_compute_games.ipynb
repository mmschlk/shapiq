{
 "cells": [
  {
   "metadata": {},
   "cell_type": "markdown",
   "source": [
    "# Precomputing the Game Values\n",
    "This notebook contains all code that was used to pre-compute the game values for the benchmark games in `shapiq`."
   ],
   "id": "5a7f8a521f243779"
  },
  {
   "metadata": {
    "ExecuteTime": {
     "end_time": "2024-05-03T08:34:27.670255Z",
     "start_time": "2024-05-03T08:34:26.640942Z"
    }
   },
   "cell_type": "code",
   "source": [
    "# general imports used for different games\n",
    "import os\n",
    "import sys\n",
    "\n",
    "import numpy as np\n",
    "import pandas as pd\n",
    "\n",
    "from shapiq.games.benchmark import pre_compute_and_store, pre_compute_and_store_from_list, get_game_files\n",
    "from shapiq.games import Game"
   ],
   "id": "2f82be095636d51f",
   "outputs": [],
   "execution_count": 1
  },
  {
   "metadata": {},
   "cell_type": "markdown",
   "source": "## SentimentAnalysis Game (Language Model Examples)",
   "id": "fef1b1524ddcb374"
  },
  {
   "metadata": {
    "ExecuteTime": {
     "end_time": "2024-05-03T08:34:29.934153Z",
     "start_time": "2024-05-03T08:34:29.915763Z"
    }
   },
   "cell_type": "code",
   "source": [
    "from shapiq.games.benchmark import SentimentAnalysisLocalXAI\n",
    "\n",
    "\n",
    "def pre_compute_imdb(n_games: int, n_players: int, n_jobs: int = 1) -> None:\n",
    "    \"\"\"Loads the IMDB dataset and pre-computes the values for the sentiment analysis game.\n",
    "\n",
    "    Args:\n",
    "        n_games: The number of games to pre-compute the values for.\n",
    "        n_players: The number of players in the game.\n",
    "        n_jobs: The number of parallel jobs to run. Default is 1.\n",
    "    \"\"\"\n",
    "\n",
    "    # load the IMDB dataset\n",
    "    imdb_data = pd.read_csv(os.path.join(\"data\", \"simplified_imdb.csv\"))\n",
    "    imdb_data = imdb_data[imdb_data[\"length\"] == n_players]\n",
    "\n",
    "    # make text column into unique identifier by taking the first letter of each word\n",
    "    imdb_data[\"game_id\"] = imdb_data[\"text\"].apply(\n",
    "        lambda x: \"\".join([word[0] for word in x.split()])\n",
    "    )\n",
    "\n",
    "    # read the games that have already been pre-computed\n",
    "    all_game_files = get_game_files(SentimentAnalysisLocalXAI, n_players=n_players)\n",
    "    # get game_ids from the files\n",
    "    all_game_ids = set([file.split(\".\")[0] for file in all_game_files])\n",
    "    print(f\"Found {len(all_game_ids)} games precomputed.\")\n",
    "\n",
    "    # get the games that have not been pre-computed\n",
    "    imdb_data = imdb_data[~imdb_data[\"game_id\"].isin(all_game_ids)]\n",
    "\n",
    "    # sample random games\n",
    "    imdb_data = imdb_data.sample(n=n_games)\n",
    "\n",
    "    # get the games\n",
    "    games, game_ids = [], []\n",
    "    for _, row in imdb_data.iterrows():\n",
    "        game = SentimentAnalysisLocalXAI(input_text=row[\"text\"], verbose=True)\n",
    "        games.append(game)\n",
    "        game_ids.append(row[\"game_id\"])\n",
    "\n",
    "    # pre-compute the values for the games\n",
    "    # save_dir = os.path.join(\"precomputed\", \"SentimentAnalysis(Game)\")\n",
    "    print(f\"Precomputing {n_games} games with {n_players} players.\")\n",
    "    pre_compute_and_store_from_list(games, game_ids=game_ids, n_jobs=n_jobs)"
   ],
   "id": "85555381879538c2",
   "outputs": [],
   "execution_count": 2
  },
  {
   "metadata": {
    "ExecuteTime": {
     "end_time": "2024-05-03T08:35:23.143023Z",
     "start_time": "2024-05-03T08:34:36.063384Z"
    }
   },
   "cell_type": "code",
   "source": [
    "# pre-compute the values for the sentiment analysis game\n",
    "\n",
    "pre_compute_imdb(n_games=2, n_players=10, n_jobs=1)"
   ],
   "id": "3965cb448820c2d6",
   "outputs": [
    {
     "name": "stdout",
     "output_type": "stream",
     "text": [
      "Found 8 games precomputed.\n",
      "Precomputing 2 games with 10 players.\n"
     ]
    },
    {
     "data": {
      "text/plain": [
       "Evaluating game:   0%|          | 0/1024 [00:00<?, ? coalition/s]"
      ],
      "application/vnd.jupyter.widget-view+json": {
       "version_major": 2,
       "version_minor": 0,
       "model_id": "0e469793980941b787b283c6add01dd5"
      }
     },
     "metadata": {},
     "output_type": "display_data"
    },
    {
     "data": {
      "text/plain": [
       "Evaluating game:   0%|          | 0/1024 [00:00<?, ? coalition/s]"
      ],
      "application/vnd.jupyter.widget-view+json": {
       "version_major": 2,
       "version_minor": 0,
       "model_id": "2108368019e14f178c9012b92ad7f1eb"
      }
     },
     "metadata": {},
     "output_type": "display_data"
    }
   ],
   "execution_count": 3
  }
 ],
 "metadata": {
  "kernelspec": {
   "display_name": "Python 3",
   "language": "python",
   "name": "python3"
  },
  "language_info": {
   "codemirror_mode": {
    "name": "ipython",
    "version": 2
   },
   "file_extension": ".py",
   "mimetype": "text/x-python",
   "name": "python",
   "nbconvert_exporter": "python",
   "pygments_lexer": "ipython2",
   "version": "2.7.6"
  }
 },
 "nbformat": 4,
 "nbformat_minor": 5
}
