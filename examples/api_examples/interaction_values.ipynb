{
 "cells": [
  {
   "cell_type": "code",
   "execution_count": null,
   "id": "5a41bbc8",
   "metadata": {},
   "outputs": [],
   "source": [
    "import shapiq\n",
    "\n",
    "print(f\"shapiq version: {shapiq.__version__}\")"
   ]
  },
  {
   "cell_type": "markdown",
   "id": "fc15fd85",
   "metadata": {},
   "source": [
    "# ShapIQ Storing Interactions\n",
    "In `shapiq` we seek to only compute Shapley Values but also higher orders, so called Shapley Interactions.\n",
    "All our `shapiq.Explainers` and `shapiq.Approximators` work with so called `shapiq.InteractionValues`.\n",
    "The idea is to work with computed interactions in the most intuitive way."
   ]
  },
  {
   "cell_type": "markdown",
   "id": "b3f450a5",
   "metadata": {},
   "source": [
    "## Initializing InteractionValues"
   ]
  },
  {
   "cell_type": "markdown",
   "id": "aee23fe6",
   "metadata": {},
   "source": [
    "Let us now first showcase a simple example of an `InteractionValues` object"
   ]
  },
  {
   "cell_type": "code",
   "execution_count": 13,
   "id": "f2ad09a0",
   "metadata": {},
   "outputs": [
    {
     "name": "stdout",
     "output_type": "stream",
     "text": [
      "InteractionValues(\n",
      "    index=SV, max_order=1, min_order=1, estimated=True, estimation_budget=None,\n",
      "    n_players=3, baseline_value=0.0,\n",
      "    Top 10 interactions:\n",
      "        (0,): 1.0\n",
      "        (1,): 1.0\n",
      "        (2,): 1.0\n",
      ")\n"
     ]
    }
   ],
   "source": [
    "from shapiq import InteractionValues\n",
    "\n",
    "raw_scores = {\n",
    "    (0,): 1.0,\n",
    "    (1,): 1.0,\n",
    "    (2,): 1.0,\n",
    "}\n",
    "interaction_values_sv = InteractionValues(\n",
    "    values=raw_scores, index=\"SV\", max_order=1, n_players=3, min_order=1\n",
    ")\n",
    "print(interaction_values_sv)"
   ]
  },
  {
   "cell_type": "markdown",
   "id": "96a39409",
   "metadata": {},
   "source": [
    "Here we have constructed a simple `InteractionValues` object, with three players.\n",
    "It contains the Shapley Values of the players, indicated by `index=\"SV\"`.\n",
    "We also define which magnitude of interactions we have stored, by defining `min_order=1` and `max_order = 1`.\n",
    "All currently supported indices are"
   ]
  },
  {
   "cell_type": "code",
   "execution_count": 14,
   "id": "a0ba997a",
   "metadata": {},
   "outputs": [
    {
     "data": {
      "text/plain": [
       "{'BGV',\n",
       " 'BII',\n",
       " 'BV',\n",
       " 'CHGV',\n",
       " 'CHII',\n",
       " 'Co-Moebius',\n",
       " 'EC',\n",
       " 'EGV',\n",
       " 'ELC',\n",
       " 'FBII',\n",
       " 'FSII',\n",
       " 'IGV',\n",
       " 'JointSV',\n",
       " 'Moebius',\n",
       " 'SGV',\n",
       " 'SII',\n",
       " 'STII',\n",
       " 'SV',\n",
       " 'k-SII',\n",
       " 'kADD-SHAP'}"
      ]
     },
     "execution_count": 14,
     "metadata": {},
     "output_type": "execute_result"
    }
   ],
   "source": [
    "from shapiq.game_theory.indices import ALL_AVAILABLE_INDICES\n",
    "\n",
    "ALL_AVAILABLE_INDICES"
   ]
  },
  {
   "cell_type": "markdown",
   "id": "49cdadc5",
   "metadata": {},
   "source": [
    "If we now would consider not only Shapley Values but also Shapley Interactions of order two, then the corresponding `InteractionValues` would be"
   ]
  },
  {
   "cell_type": "code",
   "execution_count": 15,
   "id": "676ef9e3",
   "metadata": {},
   "outputs": [
    {
     "name": "stdout",
     "output_type": "stream",
     "text": [
      "InteractionValues(\n",
      "    index=SII, max_order=2, min_order=0, estimated=True, estimation_budget=None,\n",
      "    n_players=3, baseline_value=0.0,\n",
      "    Top 10 interactions:\n",
      "        (0,): 1.0\n",
      "        (1,): 1.0\n",
      "        (2,): 1.0\n",
      "        (0, 1): 0.5\n",
      "        (0, 2): 0.5\n",
      "        (1, 2): 0.5\n",
      "        (): 0.0\n",
      ")\n"
     ]
    }
   ],
   "source": [
    "from shapiq import InteractionValues\n",
    "\n",
    "raw_scores = {\n",
    "    (): 0,\n",
    "    (0,): 1,\n",
    "    (1,): 1,\n",
    "    (2,): 1,\n",
    "    (0, 1): 0.5,\n",
    "    (0, 2): 0.5,\n",
    "    (1, 2): 0.5,\n",
    "}\n",
    "interaction_values_sii = InteractionValues(\n",
    "    values=raw_scores, index=\"SII\", max_order=2, n_players=3, min_order=0\n",
    ")\n",
    "print(interaction_values_sii)"
   ]
  },
  {
   "cell_type": "markdown",
   "id": "c8998ecf",
   "metadata": {},
   "source": [
    "We extended `raw_scores` to also contain the baseline value (zero order effect), which is indicated by `min_order=0`. <br>\n",
    "**Note**: There also exists another variant of initializing `InteractionValues` by setting `values` equal to a `np.ndarray`.\n",
    "The shortcoming is that there must be some mapping, assigning each interaction its respective entry in the `np.ndarray`.\n",
    "It can be given at initialization as `interaction_lookup`.\n",
    "If not given, `shapiq` assumes the `np.ndarray`to follow the ordering: \n",
    "- The overall structure is assumed to be Baseline -> First Order -> Second Order ..\n",
    "- First Order: Player 0 -> Player 1 -> ... -> Player n. \n",
    "- Second Order: Player 0 x Player 1 -> Player 0 x Player 2 -> ... Player 0 x Player n -> Player 1 x Player 2 -> ...\n",
    "- Higher orders: Follow a similar scheme.\n",
    "Therefore we argue to directly give `values` a dictionary mapping coalitions to Shapley Values/Interactions."
   ]
  },
  {
   "cell_type": "markdown",
   "id": "dc165bb3",
   "metadata": {},
   "source": [
    "## Manipulating InteractionValues\n",
    "\n",
    "For manipulating with `InteractionValues` we support *addition*,*scalar multiplication* and *subtraction*."
   ]
  },
  {
   "cell_type": "code",
   "execution_count": 16,
   "id": "29c87ccd",
   "metadata": {},
   "outputs": [],
   "source": [
    "scalar_interaction_values_sv = interaction_values_sv + 2  # Increase all values by 2\n",
    "scalar_interaction_values_sv *= 2  # Multiply all values by 2\n",
    "scalar_interaction_values_sv -= 2  # Decrease all values by 2"
   ]
  },
  {
   "cell_type": "markdown",
   "id": "2c5e04a5",
   "metadata": {},
   "source": [
    "Between two and more `InteractionValues` we support *addition*,*subtraction* and *aggregation*. <br>\n",
    "**Note**: This requires both to have the same `.index`!"
   ]
  },
  {
   "cell_type": "code",
   "execution_count": null,
   "id": "9df72f34",
   "metadata": {},
   "outputs": [],
   "source": [
    "interaction_values_sii2 = InteractionValues(\n",
    "    values=raw_scores, index=\"SII\", max_order=2, n_players=3, min_order=0\n",
    ")\n",
    "added_interaction_values_sii = (\n",
    "    interaction_values_sii + interaction_values_sii2\n",
    ")  # Add two InteractionValues\n",
    "subtracted_interaction_values_sii = (\n",
    "    interaction_values_sii - interaction_values_sii2\n",
    ")  # Subtract two InteractionValues\n",
    "aggregated_interaction_values_sii = interaction_values_sii.aggregate(\n",
    "    [interaction_values_sii2],\n",
    "    aggregation=\"mean\",  # For more options see the documentation\n",
    ")  # Aggregate two InteractionValues"
   ]
  },
  {
   "cell_type": "markdown",
   "id": "51486ba8",
   "metadata": {},
   "source": [
    "If we are interested in only a specific order of effects given an `InteractionValues` object, we use `.get_n_order()` or `.get_n_order_values()`.\n",
    "A `InteractionValues` object only containing the effect of a specific order is obtained by `.get_n_order()`.\n",
    "In contrast a (hyper-)tensor is constructed when calling `.get_n_order_values`, reducing to matrix for second order and to a vector for first order effects.\n",
    "For the (hyper-)tensor $M$ a entry $M_A = y$ is the interaction value of coalition $A$. <br>\n",
    "**Notice**: $M_{i,j} = M_{j,i}$."
   ]
  },
  {
   "cell_type": "code",
   "execution_count": null,
   "id": "15843a9b",
   "metadata": {},
   "outputs": [
    {
     "name": "stdout",
     "output_type": "stream",
     "text": [
      "InteractionValues(\n",
      "    index=SII, max_order=2, min_order=2, estimated=True, estimation_budget=None,\n",
      "    n_players=3, baseline_value=0.0,\n",
      "    Top 10 interactions:\n",
      "        (0, 1): 0.5\n",
      "        (0, 2): 0.5\n",
      "        (1, 2): 0.5\n",
      ")\n",
      "[[0.  0.5 0.5]\n",
      " [0.5 0.  0.5]\n",
      " [0.5 0.5 0. ]]\n"
     ]
    }
   ],
   "source": [
    "print(interaction_values_sii.get_n_order(2))  # Get values for order 2\n",
    "print(interaction_values_sii.get_n_order_values(2))  # Get values for order 2 as matrix x"
   ]
  },
  {
   "cell_type": "markdown",
   "id": "007c75f9",
   "metadata": {},
   "source": [
    "A reduced `InteractionValues` object, restricted only to a subset of players, can be obtained with `.get_subset()`."
   ]
  },
  {
   "cell_type": "code",
   "execution_count": 19,
   "id": "8943298a",
   "metadata": {},
   "outputs": [
    {
     "name": "stdout",
     "output_type": "stream",
     "text": [
      "InteractionValues(\n",
      "    index=SII, max_order=2, min_order=0, estimated=True, estimation_budget=None,\n",
      "    n_players=1, baseline_value=0.0,\n",
      "    Top 10 interactions:\n",
      "        (0,): 1.0\n",
      "        (2,): 1.0\n",
      "        (0, 2): 0.5\n",
      "        (): 0.0\n",
      ")\n"
     ]
    }
   ],
   "source": [
    "print(interaction_values_sii.get_subset([0, 2]))  # Get InteractionValues for players 0 and 2"
   ]
  },
  {
   "cell_type": "markdown",
   "id": "05f61a1b",
   "metadata": {},
   "source": [
    "In the case a `InteractionValues` object contains a lot of small values, it can be filtered by `.sparsify()`.\n",
    "The values to remove is controlled by the `threshold=1e-3` parameter."
   ]
  },
  {
   "cell_type": "code",
   "execution_count": 20,
   "id": "de628531",
   "metadata": {},
   "outputs": [
    {
     "name": "stdout",
     "output_type": "stream",
     "text": [
      "{(0,): 1.0, (1,): 1.0, (2,): 1.0, (0, 2): 0.001}\n"
     ]
    }
   ],
   "source": [
    "noisy_scores = {\n",
    "    (0,): 1.0,\n",
    "    (1,): 1.0,\n",
    "    (2,): 1.0,\n",
    "    (0, 1): 1e-5,\n",
    "    (0, 2): 1e-3,\n",
    "    (1, 2): -1e-5,\n",
    "}\n",
    "interaction_values_sii_noisy = InteractionValues(\n",
    "    values=noisy_scores, index=\"SII\", max_order=2, n_players=3, min_order=0\n",
    ")\n",
    "interaction_values_sii_noisy.sparsify(threshold=1e-3)\n",
    "print(interaction_values_sii_noisy.interactions)"
   ]
  },
  {
   "cell_type": "markdown",
   "id": "f7a0f2a8",
   "metadata": {},
   "source": [
    "**Notice**: \n",
    "- The operation is **in-place**!\n",
    "- Values `< threshold` are removed and not `<= threshold`"
   ]
  },
  {
   "cell_type": "markdown",
   "id": "0e562e8b",
   "metadata": {},
   "source": [
    "## Visualizing Interaction Values\n",
    "After designing the `InteractionValues` object, we now consider its visualization.\n",
    "\n",
    "We support visualizations known from `shap`: `.plot_force()`, `.plot_waterfall()`and `.plot_stacked_bar()`.\n",
    "Additionally custom visualizations such as `.plot_network()`, `.plot_upset()` and `.plot_si_graph()` are available.\n",
    "\n",
    "For a detailed explanations of those we refer to the dedicated notebook on visualizations."
   ]
  },
  {
   "cell_type": "code",
   "execution_count": 25,
   "id": "46874f6c",
   "metadata": {},
   "outputs": [
    {
     "data": {
      "image/png": "[encoded data removed]",
      "text/plain": [
       "<Figure size 1500x400 with 1 Axes>"
      ]
     },
     "metadata": {},
     "output_type": "display_data"
    }
   ],
   "source": [
    "interaction_values_sii.plot_force()"
   ]
  },
  {
   "cell_type": "code",
   "execution_count": 22,
   "id": "6f6af21c",
   "metadata": {},
   "outputs": [
    {
     "data": {
      "image/png": "[encoded data removed]",
      "text/plain": [
       "<Figure size 1000x725 with 2 Axes>"
      ]
     },
     "metadata": {},
     "output_type": "display_data"
    }
   ],
   "source": [
    "interaction_values_sii.plot_upset()"
   ]
  },
  {
   "cell_type": "markdown",
   "id": "717d9e8a",
   "metadata": {},
   "source": [
    "## Saving and Loading InteractionValues\n",
    "At the end we might want to save our `InteractionValues` object.\n",
    "We use `.json` to `.save()` our interactions."
   ]
  },
  {
   "cell_type": "code",
   "execution_count": 23,
   "id": "32f18f23",
   "metadata": {},
   "outputs": [],
   "source": [
    "import pathlib\n",
    "\n",
    "path = pathlib.Path(\"interaction_values_sii.json\")  # Define the path to save the InteractionValues\n",
    "interaction_values_sii.save(path)  # Save InteractionValues to a file"
   ]
  },
  {
   "cell_type": "markdown",
   "id": "bd7973ad",
   "metadata": {},
   "source": [
    "For `shapiq.version < 1.4.0` saving were done as `.npz` or `.pickle` files.\n",
    "This usage is deprecated starting with version `1.4.0`.\n",
    "A script for conversion to `.json` is available under `shapiq/scripts/convert_to_new_save_format.py`."
   ]
  },
  {
   "cell_type": "markdown",
   "id": "36daa548",
   "metadata": {},
   "source": [
    "Loading is done by using the *classmethod* `.load()`"
   ]
  },
  {
   "cell_type": "code",
   "execution_count": 24,
   "id": "a004b614",
   "metadata": {},
   "outputs": [
    {
     "name": "stdout",
     "output_type": "stream",
     "text": [
      "InteractionValues(\n",
      "    index=SII, max_order=2, min_order=0, estimated=True, estimation_budget=None,\n",
      "    n_players=3, baseline_value=0.0,\n",
      "    Top 10 interactions:\n",
      "        (0,): 1.0\n",
      "        (1,): 1.0\n",
      "        (2,): 1.0\n",
      "        (0, 1): 0.5\n",
      "        (0, 2): 0.5\n",
      "        (1, 2): 0.5\n",
      "        (): 0.0\n",
      ")\n"
     ]
    }
   ],
   "source": [
    "loaded_interaction_values_sii = InteractionValues.load(path)  # Load InteractionValues from a file\n",
    "print(loaded_interaction_values_sii)  # Verify that the loaded InteractionValues match the"
   ]
  }
 ],
 "metadata": {
  "kernelspec": {
   "display_name": "shapiq (3.11.12)",
   "language": "python",
   "name": "python3"
  },
  "language_info": {
   "codemirror_mode": {
    "name": "ipython",
    "version": 3
   },
   "file_extension": ".py",
   "mimetype": "text/x-python",
   "name": "python",
   "nbconvert_exporter": "python",
   "pygments_lexer": "ipython3",
   "version": "3.11.12"
  }
 },
 "nbformat": 4,
 "nbformat_minor": 5
}
