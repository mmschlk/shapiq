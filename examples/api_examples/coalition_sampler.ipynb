{
 "cells": [
  {
   "cell_type": "markdown",
   "id": "507b0a7c8a04dc93",
   "metadata": {},
   "source": [
    "# API Example: CoalitionSampler\n",
    "This notebook demonstrates how to use the `Coalition_sampler` class from the `shapiq` library to sample coalitions in cooperative games."
   ]
  },
  {
   "cell_type": "code",
   "execution_count": 1,
   "id": "initial_id",
   "metadata": {
    "ExecuteTime": {
     "end_time": "2025-04-27T02:23:08.728653Z",
     "start_time": "2025-04-27T02:23:05.020740Z"
    },
    "collapsed": true
   },
   "outputs": [
    {
     "data": {
      "text/plain": [
       "{'shapiq version': '1.2.3.9000'}"
      ]
     },
     "execution_count": 1,
     "metadata": {},
     "output_type": "execute_result"
    }
   ],
   "source": [
    "import shapiq\n",
    "\n",
    "{\"shapiq version\": shapiq.__version__}"
   ]
  },
  {
   "cell_type": "code",
   "execution_count": 14,
   "id": "324c9586593b30ea",
   "metadata": {
    "ExecuteTime": {
     "end_time": "2025-04-27T02:28:15.231902Z",
     "start_time": "2025-04-27T02:28:15.223783Z"
    }
   },
   "outputs": [
    {
     "name": "stdout",
     "output_type": "stream",
     "text": [
      "SOUM(7 players, normalize=False, normalization_value=0.0, precomputed=False)\n",
      "Empty prediction: [0.]\n",
      "Full prediction: [-6.81456274]\n",
      "Random prediction: [-2.48122396]\n"
     ]
    }
   ],
   "source": [
    "# get a game to play around with\n",
    "import numpy as np\n",
    "\n",
    "from shapiq.games.benchmark import SOUM\n",
    "\n",
    "game = SOUM(n=7, n_basis_games=50, max_interaction_size=5, min_interaction_size=1)\n",
    "print(game)\n",
    "\n",
    "print(\"Empty prediction:\", game(np.array([0, 0, 0, 0, 0, 0, 0])))\n",
    "print(\"Full prediction:\", game(np.array([1, 1, 1, 1, 1, 1, 1])))\n",
    "print(\"Random prediction:\", game(np.random.randint(0, 2, size=7)))"
   ]
  },
  {
   "cell_type": "code",
   "execution_count": 30,
   "id": "a4470638913416bf",
   "metadata": {
    "ExecuteTime": {
     "end_time": "2025-04-27T02:32:43.178621Z",
     "start_time": "2025-04-27T02:32:43.175943Z"
    }
   },
   "outputs": [
    {
     "name": "stdout",
     "output_type": "stream",
     "text": [
      "Sampling weights:\n",
      " [0.14285714 0.14285714 0.14285714 0.14285714 0.14285714 0.14285714\n",
      " 0.14285714 0.14285714]\n"
     ]
    }
   ],
   "source": [
    "from shapiq.approximator.sampling import CoalitionSampler\n",
    "\n",
    "sampling_weights = np.array([1 / game.n_players] * (game.n_players + 1))\n",
    "print(\"Sampling weights:\\n\", sampling_weights)\n",
    "\n",
    "sampler = CoalitionSampler(\n",
    "    n_players=game.n_players,\n",
    "    sampling_weights=sampling_weights,\n",
    "    pairing_trick=True,\n",
    "    random_state=42,\n",
    ")"
   ]
  },
  {
   "cell_type": "code",
   "execution_count": 31,
   "id": "f57ac47d4ede0a2b",
   "metadata": {
    "ExecuteTime": {
     "end_time": "2025-04-27T02:32:46.361207Z",
     "start_time": "2025-04-27T02:32:46.357919Z"
    }
   },
   "outputs": [
    {
     "data": {
      "text/plain": [
       "array([[False, False, False, False, False, False, False],\n",
       "       [ True,  True,  True,  True,  True,  True,  True],\n",
       "       [ True,  True,  True,  True, False,  True, False],\n",
       "       [False, False, False, False,  True, False,  True],\n",
       "       [ True, False,  True,  True,  True,  True, False]])"
      ]
     },
     "execution_count": 31,
     "metadata": {},
     "output_type": "execute_result"
    }
   ],
   "source": [
    "sampler.sample(sampling_budget=5)\n",
    "sampler.coalitions_matrix"
   ]
  },
  {
   "cell_type": "code",
   "execution_count": null,
   "id": "ac7423123f7e3f22",
   "metadata": {},
   "outputs": [],
   "source": []
  }
 ],
 "metadata": {
  "kernelspec": {
   "display_name": "Python 3",
   "language": "python",
   "name": "python3"
  },
  "language_info": {
   "codemirror_mode": {
    "name": "ipython",
    "version": 2
   },
   "file_extension": ".py",
   "mimetype": "text/x-python",
   "name": "python",
   "nbconvert_exporter": "python",
   "pygments_lexer": "ipython2",
   "version": "2.7.6"
  }
 },
 "nbformat": 4,
 "nbformat_minor": 5
}
