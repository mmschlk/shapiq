{
 "cells": [
  {
   "cell_type": "markdown",
   "source": [
    "# The Core: A different view on explanation\n",
    "\n",
    "On this page another game theoretic concept *the core* is introduced and how it can be applied for explanation.\n",
    "Many applied in the field of economics the core is a newly introduced concept in the field of explanation for AI researchers.\n",
    "But first let us look at an example."
   ],
   "metadata": {
    "collapsed": false
   }
  },
  {
   "cell_type": "markdown",
   "source": [
    "## Example: Writing a Paper\n",
    "Let us consider three AI researchers Alice, Bob and Eve which work together on a paper.\n",
    "The paper is about a new method to explain AI models and would win the best paper award at the next conference.\n",
    "Winning the best paper award would be a great achievement and they would receive 500$.\n",
    "Despite their long friendship they would like to have a fair share of the prize money.\n"
   ],
   "metadata": {
    "collapsed": false
   }
  },
  {
   "cell_type": "markdown",
   "source": [
    "As they are AI researchers they are familiar with the concept of *Shapley values*, being a fair way to distribute the prize money.\n",
    "Based on their records of best paper award prizes, they can compute the Shalpey values for each of them.\n",
    "| Authos | Award |\n",
    "|  | 0$ |\n",
    "| Alice | 0$ |\n",
    "| Bob | 0$ |\n",
    "| Eve | 0$ |\n",
    "| Alice, Bob | 500$ |\n",
    "| Alice, Eve | 80$ |\n",
    "| Bob, Eve | 70$ |\n",
    "| Alice, Bob, Eve | 500$ |\n"
   ],
   "metadata": {
    "collapsed": false
   }
  },
  {
   "cell_type": "markdown",
   "source": [
    "The resulting shapley values would look like\n",
    "| Author | Shapley Value |\n",
    "| Alice | 200$ |\n",
    "| Bob | 175$ |\n",
    "| Eve | 125$ |"
   ],
   "metadata": {
    "collapsed": false
   }
  }
 ],
 "metadata": {
  "kernelspec": {
   "display_name": "Python 3",
   "language": "python",
   "name": "python3"
  },
  "language_info": {
   "codemirror_mode": {
    "name": "ipython",
    "version": 2
   },
   "file_extension": ".py",
   "mimetype": "text/x-python",
   "name": "python",
   "nbconvert_exporter": "python",
   "pygments_lexer": "ipython2",
   "version": "2.7.6"
  }
 },
 "nbformat": 4,
 "nbformat_minor": 0
}
