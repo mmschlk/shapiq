{
 "cells": [
  {
   "cell_type": "markdown",
   "metadata": {},
   "source": [
    "# Benchmarking approximators of Shapley interactions\n",
    "\n",
    "In this example, we showcase how to use the `shapiq` package to benchmark different approximators for Shapley interactions."
   ]
  },
  {
   "cell_type": "code",
   "metadata": {
    "ExecuteTime": {
     "end_time": "2024-12-17T14:16:24.659354Z",
     "start_time": "2024-12-17T14:16:23.093065Z"
    }
   },
   "source": [
    "import shapiq\n",
    "\n",
    "shapiq.__version__"
   ],
   "outputs": [
    {
     "data": {
      "text/plain": [
       "'1.1.1'"
      ]
     },
     "execution_count": 1,
     "metadata": {},
     "output_type": "execute_result"
    }
   ],
   "execution_count": 1
  },
  {
   "cell_type": "code",
   "metadata": {
    "ExecuteTime": {
     "end_time": "2024-12-17T14:16:24.675354Z",
     "start_time": "2024-12-17T14:16:24.662357Z"
    }
   },
   "source": [
    "from shapiq.benchmark import (\n",
    "    load_games_from_configuration,\n",
    "    print_benchmark_configurations,\n",
    ")"
   ],
   "outputs": [],
   "execution_count": 2
  },
  {
   "cell_type": "code",
   "metadata": {
    "ExecuteTime": {
     "end_time": "2024-12-17T14:16:24.691349Z",
     "start_time": "2024-12-17T14:16:24.677358Z"
    }
   },
   "source": [
    "# print all available games and benchmark configurations\n",
    "print_benchmark_configurations()"
   ],
   "outputs": [
    {
     "name": "stdout",
     "output_type": "stream",
     "text": [
      "Game: AdultCensusDataValuation\n",
      "Player ID: 0\n",
      "Number of Players: 15\n",
      "Number of configurations: 2\n",
      "Is the Benchmark Pre-computed: True\n",
      "Iteration Parameter: random_state\n",
      "Configurations:\n",
      "Configuration 1: {'model_name': 'decision_tree', 'n_data_points': 15}\n",
      "Configuration 2: {'model_name': 'random_forest', 'n_data_points': 15}\n",
      "\n",
      "Game: AdultCensusDatasetValuation\n",
      "Player ID: 0\n",
      "Number of Players: 10\n",
      "Number of configurations: 3\n",
      "Is the Benchmark Pre-computed: True\n",
      "Iteration Parameter: random_state\n",
      "Configurations:\n",
      "Configuration 1: {'model_name': 'decision_tree', 'player_sizes': 'increasing', 'n_players': 10}\n",
      "Configuration 2: {'model_name': 'random_forest', 'player_sizes': 'increasing', 'n_players': 10}\n",
      "Configuration 3: {'model_name': 'gradient_boosting', 'player_sizes': 'increasing', 'n_players': 10}\n",
      "Player ID: 1\n",
      "Number of Players: 14\n",
      "Number of configurations: 1\n",
      "Is the Benchmark Pre-computed: True\n",
      "Iteration Parameter: random_state\n",
      "Configurations:\n",
      "Configuration 1: {'model_name': 'decision_tree', 'player_sizes': 'increasing', 'n_players': 14}\n",
      "\n",
      "Game: AdultCensusEnsembleSelection\n",
      "Player ID: 0\n",
      "Number of Players: 10\n",
      "Number of configurations: 1\n",
      "Is the Benchmark Pre-computed: True\n",
      "Iteration Parameter: random_state\n",
      "Configurations:\n",
      "Configuration 1: {'loss_function': 'accuracy_score', 'n_members': 10}\n",
      "\n",
      "Game: AdultCensusFeatureSelection\n",
      "Player ID: 0\n",
      "Number of Players: 14\n",
      "Number of configurations: 3\n",
      "Is the Benchmark Pre-computed: True\n",
      "Iteration Parameter: random_state\n",
      "Configurations:\n",
      "Configuration 1: {'model_name': 'decision_tree'}\n",
      "Configuration 2: {'model_name': 'random_forest'}\n",
      "Configuration 3: {'model_name': 'gradient_boosting'}\n",
      "\n",
      "Game: AdultCensusGlobalXAI\n",
      "Player ID: 0\n",
      "Number of Players: 14\n",
      "Number of configurations: 3\n",
      "Is the Benchmark Pre-computed: True\n",
      "Iteration Parameter: random_state\n",
      "Configurations:\n",
      "Configuration 1: {'model_name': 'decision_tree', 'loss_function': 'accuracy_score'}\n",
      "Configuration 2: {'model_name': 'random_forest', 'loss_function': 'accuracy_score'}\n",
      "Configuration 3: {'model_name': 'gradient_boosting', 'loss_function': 'accuracy_score'}\n",
      "\n",
      "Game: AdultCensusLocalXAI\n",
      "Player ID: 0\n",
      "Number of Players: 14\n",
      "Number of configurations: 6\n",
      "Is the Benchmark Pre-computed: True\n",
      "Iteration Parameter: x\n",
      "Configurations:\n",
      "Configuration 1: {'model_name': 'decision_tree', 'imputer': 'marginal'}\n",
      "Configuration 2: {'model_name': 'random_forest', 'imputer': 'marginal'}\n",
      "Configuration 3: {'model_name': 'gradient_boosting', 'imputer': 'marginal'}\n",
      "Configuration 4: {'model_name': 'decision_tree', 'imputer': 'conditional'}\n",
      "Configuration 5: {'model_name': 'random_forest', 'imputer': 'conditional'}\n",
      "Configuration 6: {'model_name': 'gradient_boosting', 'imputer': 'conditional'}\n",
      "\n",
      "Game: AdultCensusRandomForestEnsembleSelection\n",
      "Player ID: 0\n",
      "Number of Players: 10\n",
      "Number of configurations: 1\n",
      "Is the Benchmark Pre-computed: True\n",
      "Iteration Parameter: random_state\n",
      "Configurations:\n",
      "Configuration 1: {'loss_function': 'accuracy_score', 'n_members': 10}\n",
      "\n",
      "Game: AdultCensusUncertaintyExplanation\n",
      "Player ID: 0\n",
      "Number of Players: 14\n",
      "Number of configurations: 6\n",
      "Is the Benchmark Pre-computed: True\n",
      "Iteration Parameter: x\n",
      "Configurations:\n",
      "Configuration 1: {'uncertainty_to_explain': 'total', 'imputer': 'marginal'}\n",
      "Configuration 2: {'uncertainty_to_explain': 'total', 'imputer': 'conditional'}\n",
      "Configuration 3: {'uncertainty_to_explain': 'aleatoric', 'imputer': 'marginal'}\n",
      "Configuration 4: {'uncertainty_to_explain': 'aleatoric', 'imputer': 'conditional'}\n",
      "Configuration 5: {'uncertainty_to_explain': 'epistemic', 'imputer': 'marginal'}\n",
      "Configuration 6: {'uncertainty_to_explain': 'epistemic', 'imputer': 'conditional'}\n",
      "\n",
      "Game: AdultCensusUnsupervisedData\n",
      "Player ID: 0\n",
      "Number of Players: 14\n",
      "Number of configurations: 1\n",
      "Is the Benchmark Pre-computed: True\n",
      "Iteration Parameter: random_state\n",
      "Configurations:\n",
      "Configuration 1: {}\n",
      "\n",
      "Game: BikeSharingClusterExplanation\n",
      "Player ID: 0\n",
      "Number of Players: 12\n",
      "Number of configurations: 2\n",
      "Is the Benchmark Pre-computed: True\n",
      "Iteration Parameter: random_state\n",
      "Configurations:\n",
      "Configuration 1: {'cluster_method': 'kmeans', 'score_method': 'silhouette_score'}\n",
      "Configuration 2: {'cluster_method': 'agglomerative', 'score_method': 'calinski_harabasz_score'}\n",
      "\n",
      "Game: BikeSharingDataValuation\n",
      "Player ID: 0\n",
      "Number of Players: 15\n",
      "Number of configurations: 2\n",
      "Is the Benchmark Pre-computed: True\n",
      "Iteration Parameter: random_state\n",
      "Configurations:\n",
      "Configuration 1: {'model_name': 'decision_tree', 'n_data_points': 15}\n",
      "Configuration 2: {'model_name': 'random_forest', 'n_data_points': 15}\n",
      "\n",
      "Game: BikeSharingDatasetValuation\n",
      "Player ID: 0\n",
      "Number of Players: 10\n",
      "Number of configurations: 3\n",
      "Is the Benchmark Pre-computed: True\n",
      "Iteration Parameter: random_state\n",
      "Configurations:\n",
      "Configuration 1: {'model_name': 'decision_tree', 'player_sizes': 'increasing', 'n_players': 10}\n",
      "Configuration 2: {'model_name': 'random_forest', 'player_sizes': 'increasing', 'n_players': 10}\n",
      "Configuration 3: {'model_name': 'gradient_boosting', 'player_sizes': 'increasing', 'n_players': 10}\n",
      "Player ID: 1\n",
      "Number of Players: 14\n",
      "Number of configurations: 1\n",
      "Is the Benchmark Pre-computed: True\n",
      "Iteration Parameter: random_state\n",
      "Configurations:\n",
      "Configuration 1: {'model_name': 'decision_tree', 'player_sizes': 'increasing', 'n_players': 14}\n",
      "\n",
      "Game: BikeSharingEnsembleSelection\n",
      "Player ID: 0\n",
      "Number of Players: 10\n",
      "Number of configurations: 1\n",
      "Is the Benchmark Pre-computed: True\n",
      "Iteration Parameter: random_state\n",
      "Configurations:\n",
      "Configuration 1: {'loss_function': 'r2_score', 'n_members': 10}\n",
      "\n",
      "Game: BikeSharingFeatureSelection\n",
      "Player ID: 0\n",
      "Number of Players: 12\n",
      "Number of configurations: 3\n",
      "Is the Benchmark Pre-computed: True\n",
      "Iteration Parameter: random_state\n",
      "Configurations:\n",
      "Configuration 1: {'model_name': 'decision_tree'}\n",
      "Configuration 2: {'model_name': 'random_forest'}\n",
      "Configuration 3: {'model_name': 'gradient_boosting'}\n",
      "\n",
      "Game: BikeSharingGlobalXAI\n",
      "Player ID: 0\n",
      "Number of Players: 12\n",
      "Number of configurations: 3\n",
      "Is the Benchmark Pre-computed: True\n",
      "Iteration Parameter: random_state\n",
      "Configurations:\n",
      "Configuration 1: {'model_name': 'decision_tree', 'loss_function': 'r2_score'}\n",
      "Configuration 2: {'model_name': 'random_forest', 'loss_function': 'r2_score'}\n",
      "Configuration 3: {'model_name': 'gradient_boosting', 'loss_function': 'r2_score'}\n",
      "\n",
      "Game: BikeSharingLocalXAI\n",
      "Player ID: 0\n",
      "Number of Players: 12\n",
      "Number of configurations: 6\n",
      "Is the Benchmark Pre-computed: True\n",
      "Iteration Parameter: x\n",
      "Configurations:\n",
      "Configuration 1: {'model_name': 'decision_tree', 'imputer': 'marginal'}\n",
      "Configuration 2: {'model_name': 'random_forest', 'imputer': 'marginal'}\n",
      "Configuration 3: {'model_name': 'gradient_boosting', 'imputer': 'marginal'}\n",
      "Configuration 4: {'model_name': 'decision_tree', 'imputer': 'conditional'}\n",
      "Configuration 5: {'model_name': 'random_forest', 'imputer': 'conditional'}\n",
      "Configuration 6: {'model_name': 'gradient_boosting', 'imputer': 'conditional'}\n",
      "\n",
      "Game: BikeSharingRandomForestEnsembleSelection\n",
      "Player ID: 0\n",
      "Number of Players: 10\n",
      "Number of configurations: 1\n",
      "Is the Benchmark Pre-computed: True\n",
      "Iteration Parameter: random_state\n",
      "Configurations:\n",
      "Configuration 1: {'loss_function': 'r2_score', 'n_members': 10}\n",
      "\n",
      "Game: BikeSharingUnsupervisedData\n",
      "Player ID: 0\n",
      "Number of Players: 12\n",
      "Number of configurations: 1\n",
      "Is the Benchmark Pre-computed: True\n",
      "Iteration Parameter: random_state\n",
      "Configurations:\n",
      "Configuration 1: {}\n",
      "\n",
      "Game: CaliforniaHousingClusterExplanation\n",
      "Player ID: 0\n",
      "Number of Players: 8\n",
      "Number of configurations: 2\n",
      "Is the Benchmark Pre-computed: True\n",
      "Iteration Parameter: random_state\n",
      "Configurations:\n",
      "Configuration 1: {'cluster_method': 'kmeans', 'score_method': 'silhouette_score'}\n",
      "Configuration 2: {'cluster_method': 'agglomerative', 'score_method': 'calinski_harabasz_score'}\n",
      "\n",
      "Game: CaliforniaHousingDataValuation\n",
      "Player ID: 0\n",
      "Number of Players: 15\n",
      "Number of configurations: 2\n",
      "Is the Benchmark Pre-computed: True\n",
      "Iteration Parameter: random_state\n",
      "Configurations:\n",
      "Configuration 1: {'model_name': 'decision_tree', 'n_data_points': 15}\n",
      "Configuration 2: {'model_name': 'random_forest', 'n_data_points': 15}\n",
      "\n",
      "Game: CaliforniaHousingDatasetValuation\n",
      "Player ID: 0\n",
      "Number of Players: 10\n",
      "Number of configurations: 3\n",
      "Is the Benchmark Pre-computed: True\n",
      "Iteration Parameter: random_state\n",
      "Configurations:\n",
      "Configuration 1: {'model_name': 'decision_tree', 'player_sizes': 'increasing', 'n_players': 10}\n",
      "Configuration 2: {'model_name': 'random_forest', 'player_sizes': 'increasing', 'n_players': 10}\n",
      "Configuration 3: {'model_name': 'gradient_boosting', 'player_sizes': 'increasing', 'n_players': 10}\n",
      "Player ID: 1\n",
      "Number of Players: 14\n",
      "Number of configurations: 1\n",
      "Is the Benchmark Pre-computed: True\n",
      "Iteration Parameter: random_state\n",
      "Configurations:\n",
      "Configuration 1: {'model_name': 'decision_tree', 'player_sizes': 'increasing', 'n_players': 14}\n",
      "\n",
      "Game: CaliforniaHousingEnsembleSelection\n",
      "Player ID: 0\n",
      "Number of Players: 10\n",
      "Number of configurations: 1\n",
      "Is the Benchmark Pre-computed: True\n",
      "Iteration Parameter: random_state\n",
      "Configurations:\n",
      "Configuration 1: {'loss_function': 'r2_score', 'n_members': 10}\n",
      "\n",
      "Game: CaliforniaHousingFeatureSelection\n",
      "Player ID: 0\n",
      "Number of Players: 8\n",
      "Number of configurations: 3\n",
      "Is the Benchmark Pre-computed: True\n",
      "Iteration Parameter: random_state\n",
      "Configurations:\n",
      "Configuration 1: {'model_name': 'decision_tree'}\n",
      "Configuration 2: {'model_name': 'random_forest'}\n",
      "Configuration 3: {'model_name': 'gradient_boosting'}\n",
      "\n",
      "Game: CaliforniaHousingGlobalXAI\n",
      "Player ID: 0\n",
      "Number of Players: 8\n",
      "Number of configurations: 4\n",
      "Is the Benchmark Pre-computed: True\n",
      "Iteration Parameter: random_state\n",
      "Configurations:\n",
      "Configuration 1: {'model_name': 'decision_tree', 'loss_function': 'r2_score'}\n",
      "Configuration 2: {'model_name': 'random_forest', 'loss_function': 'r2_score'}\n",
      "Configuration 3: {'model_name': 'gradient_boosting', 'loss_function': 'r2_score'}\n",
      "Configuration 4: {'model_name': 'neural_network', 'loss_function': 'r2_score'}\n",
      "\n",
      "Game: CaliforniaHousingLocalXAI\n",
      "Player ID: 0\n",
      "Number of Players: 8\n",
      "Number of configurations: 8\n",
      "Is the Benchmark Pre-computed: True\n",
      "Iteration Parameter: x\n",
      "Configurations:\n",
      "Configuration 1: {'model_name': 'decision_tree', 'imputer': 'marginal'}\n",
      "Configuration 2: {'model_name': 'random_forest', 'imputer': 'marginal'}\n",
      "Configuration 3: {'model_name': 'gradient_boosting', 'imputer': 'marginal'}\n",
      "Configuration 4: {'model_name': 'neural_network', 'imputer': 'marginal'}\n",
      "Configuration 5: {'model_name': 'decision_tree', 'imputer': 'conditional'}\n",
      "Configuration 6: {'model_name': 'random_forest', 'imputer': 'conditional'}\n",
      "Configuration 7: {'model_name': 'gradient_boosting', 'imputer': 'conditional'}\n",
      "Configuration 8: {'model_name': 'neural_network', 'imputer': 'conditional'}\n",
      "\n",
      "Game: CaliforniaHousingRandomForestEnsembleSelection\n",
      "Player ID: 0\n",
      "Number of Players: 10\n",
      "Number of configurations: 1\n",
      "Is the Benchmark Pre-computed: True\n",
      "Iteration Parameter: random_state\n",
      "Configurations:\n",
      "Configuration 1: {'loss_function': 'r2_score', 'n_members': 10}\n",
      "\n",
      "Game: CaliforniaHousingUnsupervisedData\n",
      "Player ID: 0\n",
      "Number of Players: 8\n",
      "Number of configurations: 1\n",
      "Is the Benchmark Pre-computed: True\n",
      "Iteration Parameter: random_state\n",
      "Configurations:\n",
      "Configuration 1: {}\n",
      "\n",
      "Game: ImageClassifierLocalXAI\n",
      "Player ID: 0\n",
      "Number of Players: 14\n",
      "Number of configurations: 1\n",
      "Is the Benchmark Pre-computed: True\n",
      "Iteration Parameter: x_explain_path\n",
      "Configurations:\n",
      "Configuration 1: {'model_name': 'resnet_18', 'n_superpixel_resnet': 14}\n",
      "Player ID: 1\n",
      "Number of Players: 9\n",
      "Number of configurations: 1\n",
      "Is the Benchmark Pre-computed: True\n",
      "Iteration Parameter: x_explain_path\n",
      "Configurations:\n",
      "Configuration 1: {'model_name': 'vit_9_patches'}\n",
      "Player ID: 2\n",
      "Number of Players: 16\n",
      "Number of configurations: 1\n",
      "Is the Benchmark Pre-computed: True\n",
      "Iteration Parameter: x_explain_path\n",
      "Configurations:\n",
      "Configuration 1: {'model_name': 'vit_16_patches'}\n",
      "\n",
      "Game: SOUM\n",
      "Player ID: 0\n",
      "Number of Players: 15\n",
      "Number of configurations: 4\n",
      "Is the Benchmark Pre-computed: True\n",
      "Iteration Parameter: random_state\n",
      "Configurations:\n",
      "Configuration 1: {'n': 15, 'n_basis_games': 30, 'min_interaction_size': 1, 'max_interaction_size': 5}\n",
      "Configuration 2: {'n': 15, 'n_basis_games': 30, 'min_interaction_size': 1, 'max_interaction_size': 15}\n",
      "Configuration 3: {'n': 15, 'n_basis_games': 150, 'min_interaction_size': 1, 'max_interaction_size': 5}\n",
      "Configuration 4: {'n': 15, 'n_basis_games': 150, 'min_interaction_size': 1, 'max_interaction_size': 15}\n",
      "Player ID: 1\n",
      "Number of Players: 30\n",
      "Number of configurations: 6\n",
      "Is the Benchmark Pre-computed: False\n",
      "Iteration Parameter: random_state\n",
      "Configurations:\n",
      "Configuration 1: {'n': 30, 'n_basis_games': 30, 'min_interaction_size': 1, 'max_interaction_size': 5}\n",
      "Configuration 2: {'n': 30, 'n_basis_games': 30, 'min_interaction_size': 1, 'max_interaction_size': 15}\n",
      "Configuration 3: {'n': 30, 'n_basis_games': 30, 'min_interaction_size': 1, 'max_interaction_size': 25}\n",
      "Configuration 4: {'n': 30, 'n_basis_games': 150, 'min_interaction_size': 1, 'max_interaction_size': 5}\n",
      "Configuration 5: {'n': 30, 'n_basis_games': 150, 'min_interaction_size': 1, 'max_interaction_size': 15}\n",
      "Configuration 6: {'n': 30, 'n_basis_games': 150, 'min_interaction_size': 1, 'max_interaction_size': 25}\n",
      "Player ID: 2\n",
      "Number of Players: 50\n",
      "Number of configurations: 6\n",
      "Is the Benchmark Pre-computed: False\n",
      "Iteration Parameter: random_state\n",
      "Configurations:\n",
      "Configuration 1: {'n': 50, 'n_basis_games': 30, 'min_interaction_size': 1, 'max_interaction_size': 5}\n",
      "Configuration 2: {'n': 50, 'n_basis_games': 30, 'min_interaction_size': 1, 'max_interaction_size': 15}\n",
      "Configuration 3: {'n': 50, 'n_basis_games': 30, 'min_interaction_size': 1, 'max_interaction_size': 25}\n",
      "Configuration 4: {'n': 50, 'n_basis_games': 150, 'min_interaction_size': 1, 'max_interaction_size': 5}\n",
      "Configuration 5: {'n': 50, 'n_basis_games': 150, 'min_interaction_size': 1, 'max_interaction_size': 15}\n",
      "Configuration 6: {'n': 50, 'n_basis_games': 150, 'min_interaction_size': 1, 'max_interaction_size': 25}\n",
      "\n",
      "Game: SentimentAnalysisLocalXAI\n",
      "Player ID: 0\n",
      "Number of Players: 14\n",
      "Number of configurations: 1\n",
      "Is the Benchmark Pre-computed: True\n",
      "Iteration Parameter: input_text\n",
      "Configurations:\n",
      "Configuration 1: {'mask_strategy': 'mask'}\n",
      "\n",
      "Game: SynthDataTreeSHAPIQXAI\n",
      "Player ID: 0\n",
      "Number of Players: 30\n",
      "Number of configurations: 4\n",
      "Is the Benchmark Pre-computed: False\n",
      "Iteration Parameter: x\n",
      "Configurations:\n",
      "Configuration 1: {'model_name': 'decision_tree', 'classification': True, 'n_features': 30}\n",
      "Configuration 2: {'model_name': 'random_forest', 'classification': True, 'n_features': 30}\n",
      "Configuration 3: {'model_name': 'decision_tree', 'classification': False, 'n_features': 30}\n",
      "Configuration 4: {'model_name': 'random_forest', 'classification': False, 'n_features': 30}\n",
      "\n"
     ]
    }
   ],
   "execution_count": 3
  },
  {
   "cell_type": "markdown",
   "metadata": {},
   "source": [
    "## Run a SV Benchmark for a DataValuation Configuration\n",
    "Here we show how to run a benchmark for the AdultCensusDataValuation game using the SV approximators."
   ]
  },
  {
   "cell_type": "code",
   "metadata": {
    "ExecuteTime": {
     "end_time": "2024-12-17T14:16:24.706347Z",
     "start_time": "2024-12-17T14:16:24.693346Z"
    }
   },
   "source": [
    "# read these values from the configuration file / or the printed benchmark configurations\n",
    "game_identifier = \"AdultCensusDataValuation\"\n",
    "config_id = 1\n",
    "n_player_id = 0"
   ],
   "outputs": [],
   "execution_count": 4
  },
  {
   "cell_type": "code",
   "metadata": {
    "ExecuteTime": {
     "end_time": "2024-12-17T14:16:28.273239Z",
     "start_time": "2024-12-17T14:16:24.709352Z"
    }
   },
   "source": [
    "# load the game files from disk / or download\n",
    "games = load_games_from_configuration(\n",
    "    game_class=game_identifier, n_player_id=n_player_id, config_id=config_id\n",
    ")\n",
    "games = list(games)  # convert to list (the generator is consumed)\n",
    "n_players = games[0].n_players\n",
    "games[0]"
   ],
   "outputs": [
    {
     "data": {
      "text/plain": [
       "Game(15 players, normalize=False, normalization_value=0.0, precomputed=True)"
      ]
     },
     "execution_count": 5,
     "metadata": {},
     "output_type": "execute_result"
    }
   ],
   "execution_count": 5
  },
  {
   "cell_type": "code",
   "metadata": {
    "ExecuteTime": {
     "end_time": "2024-12-17T14:16:28.289242Z",
     "start_time": "2024-12-17T14:16:28.275231Z"
    }
   },
   "source": [
    "# get the approximators to evaluate\n",
    "from shapiq.approximator import KernelSHAP, SVARM, PermutationSamplingSV  # sv approximators\n",
    "\n",
    "sv_approximators = [\n",
    "    KernelSHAP(n=n_players, random_state=42),\n",
    "    SVARM(n=n_players, random_state=42),\n",
    "    PermutationSamplingSV(n=n_players, random_state=42),\n",
    "]"
   ],
   "outputs": [],
   "execution_count": 6
  },
  {
   "cell_type": "code",
   "metadata": {
    "ExecuteTime": {
     "end_time": "2024-12-17T14:16:28.305243Z",
     "start_time": "2024-12-17T14:16:28.292238Z"
    }
   },
   "source": [
    "# get the index and order\n",
    "index = \"SV\"\n",
    "order = 1\n",
    "save_path = \"data/sv_benchmark_results.json\""
   ],
   "outputs": [],
   "execution_count": 7
  },
  {
   "cell_type": "code",
   "metadata": {
    "ExecuteTime": {
     "end_time": "2024-12-17T14:18:40.461954Z",
     "start_time": "2024-12-17T14:16:28.307498Z"
    }
   },
   "source": [
    "# run the benchmark\n",
    "from shapiq.benchmark import run_benchmark\n",
    "\n",
    "results = run_benchmark(\n",
    "    index=index,\n",
    "    order=order,\n",
    "    games=games,\n",
    "    approximators=sv_approximators,\n",
    "    save_path=save_path,\n",
    "    # alternatively, you can set also max_budget (e.g. 10_000) and budget_step to 0.05 (in percentage of max_budget)\n",
    "    budget_steps=[500, 700, 1000, 2500, 5000, 10000, 20000, 2**n_players],\n",
    "    rerun_if_exists=True,  # if True, the benchmark will rerun the approximators even if the results file exists\n",
    "    n_jobs=6,  # number of parallel jobs\n",
    ")"
   ],
   "outputs": [
    {
     "name": "stdout",
     "output_type": "stream",
     "text": [
      "Computing the exact values for the games.\n"
     ]
    },
    {
     "data": {
      "text/plain": [
       "  0%|          | 0/10 [00:00<?, ? games/s]"
      ],
      "application/vnd.jupyter.widget-view+json": {
       "version_major": 2,
       "version_minor": 0,
       "model_id": "93d1daae60ae4152b38b4be90d67a82f"
      }
     },
     "metadata": {},
     "output_type": "display_data"
    },
    {
     "name": "stdout",
     "output_type": "stream",
     "text": [
      "Got 3 approximators for the benchmark.\n",
      "All approximators: {1: [KernelSHAP(\n",
      "    n=15,\n",
      "    max_order=1,\n",
      "    index=SII,\n",
      "    top_order=False,\n",
      "    random_state=42\n",
      "), SVARM(\n",
      "    n=15,\n",
      "    max_order=1,\n",
      "    index=SV,\n",
      "    top_order=False,\n",
      "    random_state=42\n",
      "), PermutationSamplingSV(\n",
      "    n=15,\n",
      "    max_order=1,\n",
      "    index=SV,\n",
      "    top_order=False,\n",
      "    random_state=42\n",
      ")]}\n"
     ]
    },
    {
     "data": {
      "text/plain": [
       "Running benchmark::   0%|          | 0/240 [00:00<?, ? experiments/s]"
      ],
      "application/vnd.jupyter.widget-view+json": {
       "version_major": 2,
       "version_minor": 0,
       "model_id": "1e8f7c2941c14c85a59dcbd80dbc6970"
      }
     },
     "metadata": {},
     "output_type": "display_data"
    }
   ],
   "execution_count": 8
  },
  {
   "cell_type": "code",
   "metadata": {
    "ExecuteTime": {
     "end_time": "2024-12-17T14:18:40.835574Z",
     "start_time": "2024-12-17T14:18:40.463959Z"
    }
   },
   "source": [
    "# plot the results\n",
    "from shapiq.benchmark import plot_approximation_quality\n",
    "\n",
    "fig, axis = plot_approximation_quality(results)"
   ],
   "outputs": [
    {
     "name": "stdout",
     "output_type": "stream",
     "text": [
      "Approximators: ['KernelSHAP', 'PermutationSamplingSV', 'SVARM']\n"
     ]
    },
    {
     "data": {
      "text/plain": [
       "<Figure size 640x480 with 1 Axes>"
      ],
      "image/png": "[encoded data removed]"
     },
     "metadata": {},
     "output_type": "display_data"
    }
   ],
   "execution_count": 9
  },
  {
   "cell_type": "markdown",
   "metadata": {},
   "source": [
    "## Run a SI Benchmark for a Local Explanation Configuration\n"
   ]
  },
  {
   "cell_type": "code",
   "metadata": {
    "ExecuteTime": {
     "end_time": "2024-12-17T14:18:40.850915Z",
     "start_time": "2024-12-17T14:18:40.837573Z"
    }
   },
   "source": [
    "# set index and order\n",
    "index = \"k-SII\"\n",
    "order = 2"
   ],
   "outputs": [],
   "execution_count": 10
  },
  {
   "cell_type": "code",
   "metadata": {
    "ExecuteTime": {
     "end_time": "2024-12-17T14:18:40.867002Z",
     "start_time": "2024-12-17T14:18:40.851906Z"
    }
   },
   "source": [
    "# read these values from the configuration file / or the printed benchmark configurations\n",
    "game_identifier = \"SentimentAnalysisLocalXAI\"  # explains the sentiment of a sentence\n",
    "config_id = 1\n",
    "n_player_id = 0\n",
    "n_games = 10  # 30 are available"
   ],
   "outputs": [],
   "execution_count": 11
  },
  {
   "cell_type": "code",
   "metadata": {
    "ExecuteTime": {
     "end_time": "2024-12-17T14:18:41.182147Z",
     "start_time": "2024-12-17T14:18:40.870011Z"
    }
   },
   "source": [
    "# load the game files from disk / or download\n",
    "games = load_games_from_configuration(\n",
    "    game_class=game_identifier, n_player_id=n_player_id, config_id=config_id, n_games=n_games\n",
    ")\n",
    "games = list(games)  # convert to list (the generator is consumed)\n",
    "n_players = games[0].n_players\n",
    "games[0]"
   ],
   "outputs": [
    {
     "data": {
      "text/plain": [
       "Game(14 players, normalize=True, normalization_value=0.5675869584083557, precomputed=True)"
      ]
     },
     "execution_count": 12,
     "metadata": {},
     "output_type": "execute_result"
    }
   ],
   "execution_count": 12
  },
  {
   "cell_type": "code",
   "metadata": {
    "ExecuteTime": {
     "end_time": "2024-12-17T14:18:41.197077Z",
     "start_time": "2024-12-17T14:18:41.184187Z"
    }
   },
   "source": [
    "# get the approximators to evaluate\n",
    "from shapiq.approximator import KernelSHAPIQ, SVARMIQ, PermutationSamplingSII  # si approximators\n",
    "\n",
    "si_approximators = [\n",
    "    KernelSHAPIQ(n=n_players, index=index, max_order=order, random_state=42),\n",
    "    SVARMIQ(n=n_players, index=index, max_order=order, random_state=42),\n",
    "    PermutationSamplingSII(n=n_players, index=index, max_order=order, random_state=42),\n",
    "]"
   ],
   "outputs": [],
   "execution_count": 13
  },
  {
   "cell_type": "code",
   "metadata": {
    "ExecuteTime": {
     "end_time": "2024-12-17T14:18:41.213095Z",
     "start_time": "2024-12-17T14:18:41.200079Z"
    }
   },
   "source": [
    "# get the index and order\n",
    "index = \"k-SII\"\n",
    "order = 2\n",
    "save_path = \"data/si_benchmark_results.json\""
   ],
   "outputs": [],
   "execution_count": 14
  },
  {
   "cell_type": "code",
   "metadata": {
    "ExecuteTime": {
     "end_time": "2024-12-17T14:20:57.598015Z",
     "start_time": "2024-12-17T14:18:41.215038Z"
    }
   },
   "source": [
    "# run the benchmark\n",
    "from shapiq.benchmark import run_benchmark\n",
    "\n",
    "results = run_benchmark(\n",
    "    index=index,\n",
    "    order=order,\n",
    "    games=games,\n",
    "    approximators=si_approximators,\n",
    "    save_path=save_path,\n",
    "    # alternatively, you can set also max_budget and budget_step\n",
    "    budget_steps=[500, 1000, 2500, 5000, 10000, 2**n_players],\n",
    "    rerun_if_exists=True,  # if True, the benchmark will rerun the approximators even if the results file exists\n",
    "    n_jobs=6,  # number of parallel jobs\n",
    ")"
   ],
   "outputs": [
    {
     "name": "stdout",
     "output_type": "stream",
     "text": [
      "Computing the exact values for the games.\n"
     ]
    },
    {
     "data": {
      "text/plain": [
       "  0%|          | 0/10 [00:00<?, ? games/s]"
      ],
      "application/vnd.jupyter.widget-view+json": {
       "version_major": 2,
       "version_minor": 0,
       "model_id": "bbc5514e7a1c4ac2a99fbf472e4ad255"
      }
     },
     "metadata": {},
     "output_type": "display_data"
    },
    {
     "name": "stdout",
     "output_type": "stream",
     "text": [
      "Got 3 approximators for the benchmark.\n",
      "All approximators: {1: [KernelSHAPIQ(\n",
      "    n=14,\n",
      "    max_order=2,\n",
      "    index=k-SII,\n",
      "    top_order=False,\n",
      "    random_state=42\n",
      "), SVARMIQ(\n",
      "    n=14,\n",
      "    max_order=2,\n",
      "    index=k-SII,\n",
      "    top_order=False,\n",
      "    random_state=42\n",
      "), PermutationSamplingSII(\n",
      "    n=14,\n",
      "    max_order=2,\n",
      "    index=k-SII,\n",
      "    top_order=False,\n",
      "    random_state=42\n",
      ")]}\n"
     ]
    },
    {
     "data": {
      "text/plain": [
       "Running benchmark::   0%|          | 0/180 [00:00<?, ? experiments/s]"
      ],
      "application/vnd.jupyter.widget-view+json": {
       "version_major": 2,
       "version_minor": 0,
       "model_id": "129518bcf8314e009421e3630f8ef356"
      }
     },
     "metadata": {},
     "output_type": "display_data"
    }
   ],
   "execution_count": 15
  },
  {
   "cell_type": "code",
   "metadata": {
    "ExecuteTime": {
     "end_time": "2024-12-17T14:20:58.056184Z",
     "start_time": "2024-12-17T14:20:57.601014Z"
    }
   },
   "source": [
    "# plot the results\n",
    "from shapiq.benchmark import plot_approximation_quality\n",
    "\n",
    "# colors in the plot: \"KernelSHAPIQ\": orange, \"SVARMIQ\": blue, \"PermutationSamplingSII\": purple\n",
    "plot_approximation_quality(results, log_scale_y=True)"
   ],
   "outputs": [
    {
     "name": "stdout",
     "output_type": "stream",
     "text": [
      "Approximators: ['KernelSHAPIQ', 'PermutationSamplingSII', 'SVARMIQ']\n"
     ]
    },
    {
     "data": {
      "text/plain": [
       "(<Figure size 640x480 with 1 Axes>,\n",
       " <Axes: xlabel='Model Evaluations (relative to $2^n$)', ylabel='MSE'>)"
      ]
     },
     "execution_count": 16,
     "metadata": {},
     "output_type": "execute_result"
    },
    {
     "data": {
      "text/plain": [
       "<Figure size 640x480 with 1 Axes>"
      ],
      "image/png": "[encoded data removed]"
     },
     "metadata": {},
     "output_type": "display_data"
    }
   ],
   "execution_count": 16
  }
 ],
 "metadata": {
  "kernelspec": {
   "display_name": "shapiq2",
   "language": "python",
   "name": "python3"
  },
  "language_info": {
   "codemirror_mode": {
    "name": "ipython",
    "version": 3
   },
   "file_extension": ".py",
   "mimetype": "text/x-python",
   "name": "python",
   "nbconvert_exporter": "python",
   "pygments_lexer": "ipython3",
   "version": "3.11.9"
  }
 },
 "nbformat": 4,
 "nbformat_minor": 2
}
