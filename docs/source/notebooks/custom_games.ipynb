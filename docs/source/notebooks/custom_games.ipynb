{
 "cells": [
  {
   "metadata": {},
   "cell_type": "markdown",
   "source": [
    "# Basics: Defining Custom Games with `shapiq`\n",
    "\n",
    "This notebook demonstrates how to define custom cooperative games and use them with the `shapiq` library."
   ]
  },
  {
   "metadata": {
    "ExecuteTime": {
     "end_time": "2024-11-07T15:11:33.154879Z",
     "start_time": "2024-11-07T15:11:30.756019Z"
    }
   },
   "cell_type": "code",
   "source": [
    "import numpy as np\n",
    "import shapiq\n",
    "\n",
    "shapiq.__version__"
   ],
   "outputs": [
    {
     "data": {
      "text/plain": [
       "'1.1.0'"
      ]
     },
     "execution_count": 1,
     "metadata": {},
     "output_type": "execute_result"
    }
   ],
   "execution_count": 1
  },
  {
   "cell_type": "markdown",
   "source": [
    "\n",
    "\n",
    "## Introduction to Cooperative Game Theory and Shapley Values\n",
    "Cooperative game theory deals with the study of games in which players/participants can form groups (also known coalitions) to achieve a collective payoff. More formally a cooperative game is defined as a tuple $(N,\\nu)$ where:\n",
    "- $N$ is a finite set of players\n",
    "- $\\nu$ is a characteristic function that maps every coalition of players to a real number, i.e. $\\nu:2^N \\rightarrow \\mathbb{R}$\n",
    "\n",
    "## Defining a Custom Cooperative Game\n",
    "To illustrate the concept of cooperative games, we consider a simple example of a _cooking game_ you might find in a restaurant.\n",
    "The game consists of three cooks, _Alice_, _Bob_, and _Charlie_, who are preparing a meal _together_.\n",
    "\n",
    "The characteristic function $\\nu$ maps each coalition of players to the quality of the meal:\n",
    "| Coalition             | Quality |\n",
    "|-----------------------|---------|\n",
    "| {no cook}             | 0       |\n",
    "| {Alice}               | 2       |\n",
    "| {Bob}                 | 3       |\n",
    "| {Charlie}             | 4       |\n",
    "| {Alice, Bob}          | 7       |\n",
    "| {Alice, Charlie}      | 8       |\n",
    "| {Bob, Charlie}        | 9       |\n",
    "| {Alice, Bob, Charlie} | 15      |\n",
    "\n",
    "For example, the coalition {Alice, Bob} has a quality of 7, while the coalition {Alice, Bob, Charlie} has a quality of 15.\n",
    "If no cooks participate, the quality of the meal is 0 and no meal is prepared.\n",
    "\n",
    "We can easily model this general form of a cooperative game with `shapiq` by defining a class that inherits from the `shapiq.Game` class.\n",
    "Note, a game does not necessarily have to be a subclass of `shapiq.Game` and can also be a simple function that defines the value function $\\nu:2^N \\rightarrow \\mathbb{R}$.\n",
    "Methods in `shapiq` can also be used with such functions. However, using the `Game` class provides a more structured way to define the game and its properties.\n",
    "It also comes equipped with handy helper methods.\n",
    "\n",
    "Below we define the `CookingGame` class that models the cooking game."
   ],
   "metadata": {
    "collapsed": false
   }
  },
  {
   "metadata": {},
   "cell_type": "markdown",
   "source": ""
  },
  {
   "metadata": {
    "ExecuteTime": {
     "end_time": "2024-11-07T15:11:33.169606Z",
     "start_time": "2024-11-07T15:11:33.156871Z"
    }
   },
   "cell_type": "code",
   "source": [
    "# define the cooking game as a subclass of shapiq.Game\n",
    "class CookingGame(shapiq.Game):\n",
    "    def __init__(self):\n",
    "        self.characteristic_function = {\n",
    "            (): 0,\n",
    "            (0,): 4,\n",
    "            (1,): 3,\n",
    "            (2,): 2,\n",
    "            (0, 1): 9,\n",
    "            (0, 2): 8,\n",
    "            (1, 2): 7,\n",
    "            (0, 1, 2): 15,\n",
    "        }\n",
    "        super().__init__(\n",
    "            n_players=3,\n",
    "            player_names=[\"Alice\", \"Bob\", \"Charlie\"],  # Optional list of names\n",
    "            normalization_value=self.characteristic_function[()],  # 0\n",
    "        )\n",
    "\n",
    "    def value_function(self, coalitions: np.ndarray) -> np.ndarray:\n",
    "        \"\"\"Defines the worth of a coalition as a lookup in the characteristic function.\"\"\"\n",
    "        output = []\n",
    "        for coalition in coalitions:\n",
    "            output.append(self.characteristic_function[tuple(np.where(coalition)[0])])\n",
    "        return np.array(output)\n",
    "\n",
    "\n",
    "cooking_game = CookingGame()\n",
    "cooking_game"
   ],
   "outputs": [
    {
     "data": {
      "text/plain": [
       "CookingGame(3 players, normalize=False, normalization_value=0, precomputed=False)"
      ]
     },
     "execution_count": 2,
     "metadata": {},
     "output_type": "execute_result"
    }
   ],
   "execution_count": 2
  },
  {
   "metadata": {},
   "cell_type": "markdown",
   "source": [
    "### Querying the Value Function of the Game\n",
    "We can query the value function of the game for different coalitions."
   ]
  },
  {
   "metadata": {
    "ExecuteTime": {
     "end_time": "2024-11-07T15:11:33.185598Z",
     "start_time": "2024-11-07T15:11:33.170598Z"
    }
   },
   "cell_type": "code",
   "source": [
    "# query the value function of the game for different coalitions\n",
    "coals = np.array([[0, 0, 0], [1, 1, 0], [1, 0, 1], [0, 1, 1], [1, 1, 1]])\n",
    "cooking_game(coals)"
   ],
   "outputs": [
    {
     "data": {
      "text/plain": [
       "array([ 0,  9,  8,  7, 15])"
      ]
     },
     "execution_count": 3,
     "metadata": {},
     "output_type": "execute_result"
    }
   ],
   "execution_count": 3
  },
  {
   "metadata": {
    "ExecuteTime": {
     "end_time": "2024-11-07T15:11:33.201598Z",
     "start_time": "2024-11-07T15:11:33.187598Z"
    }
   },
   "cell_type": "code",
   "source": [
    "# query the value function with the names of the players\n",
    "coals = [\n",
    "    (),\n",
    "    (\"Alice\", \"Bob\"),\n",
    "    (\"Alice\", \"Charlie\"),\n",
    "    (\"Bob\", \"Charlie\"),\n",
    "    (\"Alice\", \"Bob\", \"Charlie\"),\n",
    "]\n",
    "cooking_game(coals)"
   ],
   "outputs": [
    {
     "data": {
      "text/plain": [
       "array([ 0,  9,  8,  7, 15])"
      ]
     },
     "execution_count": 4,
     "metadata": {},
     "output_type": "execute_result"
    }
   ],
   "execution_count": 4
  },
  {
   "metadata": {
    "ExecuteTime": {
     "end_time": "2024-11-07T15:11:33.217597Z",
     "start_time": "2024-11-07T15:11:33.203598Z"
    }
   },
   "cell_type": "code",
   "source": [
    "# we can automatically get the value of the grand coalition\n",
    "print(\"The quality of the meal for the grand coalition is:\", cooking_game.grand_coalition_value)\n",
    "\n",
    "# similarly we can get the value of the empty coalition\n",
    "print(\"The quality of the meal for the empty coalition is:\", cooking_game.empty_coalition_value)"
   ],
   "outputs": [
    {
     "name": "stdout",
     "output_type": "stream",
     "text": [
      "The quality of the meal for the grand coalition is: 15.0\n",
      "The quality of the meal for the empty coalition is: 0.0\n"
     ]
    }
   ],
   "execution_count": 5
  },
  {
   "metadata": {},
   "cell_type": "markdown",
   "source": [
    "### Precomputing game values\n",
    "If our game is small (low number of players), we can precompute the values of all coalitions.\n",
    "This is useful for games where the value function is computationally expensive and we might want to use the values multiple times.\n",
    "\n",
    "If a game is defined as a subclass of `shapiq.Game`, we can use the `precompute` method to precompute the values of all coalitions."
   ]
  },
  {
   "metadata": {
    "ExecuteTime": {
     "end_time": "2024-11-07T15:11:33.248112Z",
     "start_time": "2024-11-07T15:11:33.218598Z"
    }
   },
   "cell_type": "code",
   "source": [
    "# see that no values have been precomputed:\n",
    "print(\"Coalitions stored before precomputation:\", cooking_game.coalition_lookup)\n",
    "print(\"Values stored before precomputation:    \", cooking_game.value_storage)\n",
    "\n",
    "# precompute the values of all coalitions\n",
    "cooking_game.verbose = True  # to see progress\n",
    "cooking_game.precompute()\n",
    "\n",
    "# see that all values have been precomputed:\n",
    "print(\"Coalitions stored after precomputation:\", cooking_game.coalition_lookup)\n",
    "print(\"Values stored after precomputation:    \", cooking_game.value_storage)"
   ],
   "outputs": [
    {
     "name": "stdout",
     "output_type": "stream",
     "text": [
      "Coalitions stored before precomputation: {}\n",
      "Values stored before precomputation:     []\n"
     ]
    },
    {
     "data": {
      "text/plain": [
       "Evaluating game:   0%|          | 0/8 [00:00<?, ? coalition/s]"
      ],
      "application/vnd.jupyter.widget-view+json": {
       "version_major": 2,
       "version_minor": 0,
       "model_id": "7a0834653dda4a79bd14e8695529c71c"
      }
     },
     "metadata": {},
     "output_type": "display_data"
    },
    {
     "name": "stdout",
     "output_type": "stream",
     "text": [
      "Coalitions stored after precomputation: {(): 0, (0,): 1, (1,): 2, (2,): 3, (0, 1): 4, (0, 2): 5, (1, 2): 6, (0, 1, 2): 7}\n",
      "Values stored after precomputation:     [ 0.  4.  3.  2.  9.  8.  7. 15.]\n"
     ]
    }
   ],
   "execution_count": 6
  },
  {
   "metadata": {},
   "cell_type": "markdown",
   "source": [
    "The precomputed values are stored in the `coalition_lookup` and `value_storage` attributes of the game object.\n",
    "You can even save the precomputed values to a file and load them later using the `save_values` and `load_values` methods."
   ]
  },
  {
   "metadata": {
    "ExecuteTime": {
     "end_time": "2024-11-07T15:11:33.264113Z",
     "start_time": "2024-11-07T15:11:33.250112Z"
    }
   },
   "cell_type": "code",
   "source": [
    "# save the precomputed values to a file\n",
    "cooking_game.save_values(\"cooking_game_values.npz\")\n",
    "\n",
    "# load the precomputed values from the file\n",
    "empty_cooking_game = CookingGame()\n",
    "print(\"Values stored before loading: \", empty_cooking_game.value_storage)\n",
    "empty_cooking_game.load_values(\"cooking_game_values.npz\")\n",
    "print(\"Values stored after loading:  \", empty_cooking_game.value_storage)"
   ],
   "outputs": [
    {
     "name": "stdout",
     "output_type": "stream",
     "text": [
      "Values stored before loading:  []\n",
      "Values stored after loading:   [ 0.  4.  3.  2.  9.  8.  7. 15.]\n"
     ]
    }
   ],
   "execution_count": 7
  },
  {
   "metadata": {},
   "cell_type": "markdown",
   "source": [
    "## Initializing Games Directly from Precomputed Values\n",
    "If we have precomputed values for a game, we can directly initialize a game object from these values."
   ]
  },
  {
   "metadata": {
    "ExecuteTime": {
     "end_time": "2024-11-07T15:11:33.280112Z",
     "start_time": "2024-11-07T15:11:33.266114Z"
    }
   },
   "cell_type": "code",
   "source": [
    "# initialize a game object directly from precomputed values\n",
    "game = shapiq.Game(path_to_values=\"cooking_game_values.npz\")\n",
    "print(game)\n",
    "\n",
    "# query the value function of the game for the same coalitions as before\n",
    "coals = np.array([[0, 0, 0], [1, 1, 0], [1, 0, 1], [0, 1, 1], [1, 1, 1]])\n",
    "game(coals)"
   ],
   "outputs": [
    {
     "name": "stdout",
     "output_type": "stream",
     "text": [
      "Game(3 players, normalize=False, normalization_value=0.0, precomputed=True)\n"
     ]
    },
    {
     "data": {
      "text/plain": [
       "array([ 0.,  9.,  8.,  7., 15.])"
      ]
     },
     "execution_count": 8,
     "metadata": {},
     "output_type": "execute_result"
    }
   ],
   "execution_count": 8
  },
  {
   "metadata": {},
   "cell_type": "markdown",
   "source": [
    "Now we have a game object initialized directly from precomputed values.\n",
    "Note that unlike our special `CookingGame` class, this game object does not certain attributes like the `characteristic_function`."
   ]
  },
  {
   "metadata": {
    "ExecuteTime": {
     "end_time": "2024-11-07T15:11:33.296113Z",
     "start_time": "2024-11-07T15:11:33.281115Z"
    }
   },
   "cell_type": "code",
   "source": [
    "print(cooking_game.characteristic_function)\n",
    "try:\n",
    "    print(game.characteristic_function)  # this line should throw an error\n",
    "except AttributeError as e:\n",
    "    print(\"AttributeError:\", e)"
   ],
   "outputs": [
    {
     "name": "stdout",
     "output_type": "stream",
     "text": [
      "{(): 0, (0,): 4, (1,): 3, (2,): 2, (0, 1): 9, (0, 2): 8, (1, 2): 7, (0, 1, 2): 15}\n",
      "AttributeError: 'Game' object has no attribute 'characteristic_function'\n"
     ]
    }
   ],
   "execution_count": 9
  }
 ],
 "metadata": {
  "kernelspec": {
   "display_name": "Python 3",
   "language": "python",
   "name": "python3"
  },
  "language_info": {
   "codemirror_mode": {
    "name": "ipython",
    "version": 2
   },
   "file_extension": ".py",
   "mimetype": "text/x-python",
   "name": "python",
   "nbconvert_exporter": "python",
   "pygments_lexer": "ipython2",
   "version": "2.7.6"
  }
 },
 "nbformat": 4,
 "nbformat_minor": 0
}
