{
 "cells": [
  {
   "metadata": {},
   "cell_type": "markdown",
   "source": [
    "# Computing Shapley Values with `shapiq`\n",
    "A popular approach to tackle the problem of XAI is to use concepts from _cooperative game theory_.\n",
    "The most popular method is to use the **Shapley Values** named after Lloyd Shapley, who introduced it in 1951 with his work *\"The Value of an n-Person Game\"* ([Link](https://www.rand.org/content/dam/rand/pubs/papers/2021/P295.pdf)).\n",
    "\n",
    "We divide this notebook into _two_ parts.\n",
    "1. **Introduction to Cooperative Game Theory and Shapley Values:** The _first part_ introduces the mathematical background of cooperative game theory and the Shapley value. It further shows how to use `shapiq` to calculate Shapley values for any cooperative game.\n",
    "\n",
    "2. **Explainable AI with Shapley Value:** The _second part_ discusses how the to use the `shapiq` library for explainable AI (XAI) with Shapley values.\n",
    "\n",
    "For practitioners the second part might be most important, but we would highly encourage to read the first part to understand the mathematical implications of Shapley values."
   ]
  },
  {
   "metadata": {
    "ExecuteTime": {
     "end_time": "2025-03-11T12:31:49.924281Z",
     "start_time": "2025-03-11T12:31:49.004788Z"
    }
   },
   "cell_type": "code",
   "source": [
    "import shapiq\n",
    "\n",
    "shapiq.__version__"
   ],
   "outputs": [
    {
     "data": {
      "text/plain": [
       "'1.2.2'"
      ]
     },
     "execution_count": 1,
     "metadata": {},
     "output_type": "execute_result"
    }
   ],
   "execution_count": 1
  },
  {
   "cell_type": "markdown",
   "source": [
    "\n",
    "\n",
    "## Introduction to Cooperative Game Theory and Shapley Values\n",
    "Cooperative game theory deals with the study of games in which players/participants can form groups (also known coalitions) to achieve a collective payoff. More formally a cooperative game is defined as a tuple $(N,\\nu)$ where:\n",
    "- $N$ is a finite set of players\n",
    "- $\\nu$ is a characteristic function that maps every coalition of players to a real number, i.e. $\\nu:2^N \\rightarrow \\mathbb{R}$\n",
    "\n",
    "### Example: The Cooking Game\n",
    "To illustrate the concept of cooperative games, we consider a simple example of a _cooking game_ you might find in a restaurant.\n",
    "The game consists of three cooks, _Alice_, _Bob_, and _Charlie_, who are preparing a meal _together_.\n",
    "\n",
    "The characteristic function $\\nu$ maps each coalition of players to the quality of the meal:\n",
    "\n",
    "| Coalition             | Quality |\n",
    "|-----------------------|---------|\n",
    "| {no cook}             | 0       |\n",
    "| {Alice}               | 4       |\n",
    "| {Bob}                 | 3       |\n",
    "| {Charlie}             | 2       |\n",
    "| {Alice, Bob}          | 9       |\n",
    "| {Alice, Charlie}      | 8       |\n",
    "| {Bob, Charlie}        | 7       |\n",
    "| {Alice, Bob, Charlie} | 15      |\n",
    "\n",
    "For example, the coalition {Alice, Bob} has a quality of 9, while the coalition {Alice, Bob, Charlie} has a quality of 15.\n",
    "If no cooks participate, the quality of the meal is 0 and no meal is prepared.\n",
    "\n",
    "We can easily model this general form of a cooperative game with `shapiq` by defining a class that inherits from the `shapiq.Game` class.\n",
    "Note, a game does not necessarily have to be a subclass of `shapiq.Game` and can also be a simple function that defines the value function $\\nu:2^N \\rightarrow \\mathbb{R}$.\n",
    "Methods in `shapiq` can also be used with such functions. However, using the `Game` class provides a more structured way to define the game and its properties.\n",
    "It also comes equipped with handy helper methods.\n",
    "\n",
    "Below we define the `CookingGame` class that models the cooking game."
   ],
   "metadata": {
    "collapsed": false
   }
  },
  {
   "metadata": {},
   "cell_type": "markdown",
   "source": ""
  },
  {
   "metadata": {
    "ExecuteTime": {
     "end_time": "2025-03-11T12:31:49.941663Z",
     "start_time": "2025-03-11T12:31:49.937020Z"
    }
   },
   "cell_type": "code",
   "source": [
    "import numpy as np\n",
    "\n",
    "\n",
    "class CookingGame(shapiq.Game):\n",
    "    def __init__(self):\n",
    "        self.characteristic_function = {\n",
    "            (): 0,\n",
    "            (0,): 4,\n",
    "            (1,): 3,\n",
    "            (2,): 2,\n",
    "            (0, 1): 9,\n",
    "            (0, 2): 8,\n",
    "            (1, 2): 7,\n",
    "            (0, 1, 2): 15,\n",
    "        }\n",
    "        super().__init__(\n",
    "            n_players=3,\n",
    "            player_names=[\"Alice\", \"Bob\", \"Charlie\"],  # Optional list of names\n",
    "            normalization_value=self.characteristic_function[()],  # 0\n",
    "        )\n",
    "\n",
    "    def value_function(self, coalitions: np.ndarray) -> np.ndarray:\n",
    "        \"\"\"Defines the worth of a coalition as a lookup in the characteristic function.\"\"\"\n",
    "        output = []\n",
    "        for coalition in coalitions:\n",
    "            output.append(self.characteristic_function[tuple(np.where(coalition)[0])])\n",
    "        return np.array(output)\n",
    "\n",
    "\n",
    "cooking_game = CookingGame()\n",
    "cooking_game"
   ],
   "outputs": [
    {
     "data": {
      "text/plain": [
       "CookingGame(3 players, normalize=False, normalization_value=0, precomputed=False)"
      ]
     },
     "execution_count": 2,
     "metadata": {},
     "output_type": "execute_result"
    }
   ],
   "execution_count": 2
  },
  {
   "metadata": {},
   "cell_type": "markdown",
   "source": "We can now use this cooking game to see the quality of the meal for different coalitions:"
  },
  {
   "metadata": {
    "ExecuteTime": {
     "end_time": "2025-03-11T12:31:50.010975Z",
     "start_time": "2025-03-11T12:31:50.008126Z"
    }
   },
   "cell_type": "code",
   "source": [
    "# query the value function of the game for different coalitions\n",
    "coals = np.array([[0, 0, 0], [1, 1, 0], [1, 0, 1], [0, 1, 1], [1, 1, 1]])\n",
    "cooking_game(coals)"
   ],
   "outputs": [
    {
     "data": {
      "text/plain": [
       "array([ 0,  9,  8,  7, 15])"
      ]
     },
     "execution_count": 3,
     "metadata": {},
     "output_type": "execute_result"
    }
   ],
   "execution_count": 3
  },
  {
   "metadata": {
    "ExecuteTime": {
     "end_time": "2025-03-11T12:31:50.017675Z",
     "start_time": "2025-03-11T12:31:50.014953Z"
    }
   },
   "cell_type": "code",
   "source": [
    "# query the value function with the names of the players\n",
    "coals = [\n",
    "    (),\n",
    "    (\"Alice\", \"Bob\"),\n",
    "    (\"Alice\", \"Charlie\"),\n",
    "    (\"Bob\", \"Charlie\"),\n",
    "    (\"Alice\", \"Bob\", \"Charlie\"),\n",
    "]\n",
    "cooking_game(coals)"
   ],
   "outputs": [
    {
     "data": {
      "text/plain": [
       "array([ 0,  9,  8,  7, 15])"
      ]
     },
     "execution_count": 4,
     "metadata": {},
     "output_type": "execute_result"
    }
   ],
   "execution_count": 4
  },
  {
   "metadata": {
    "ExecuteTime": {
     "end_time": "2025-03-11T12:31:50.031681Z",
     "start_time": "2025-03-11T12:31:50.029783Z"
    }
   },
   "cell_type": "code",
   "source": [
    "# we can automatically get the value of the grand coalition\n",
    "print(\"The quality of the meal for the grand coalition is:\", cooking_game.grand_coalition_value)\n",
    "\n",
    "# similarly we can get the value of the empty coalition\n",
    "print(\"The quality of the meal for the empty coalition is:\", cooking_game.empty_coalition_value)"
   ],
   "outputs": [
    {
     "name": "stdout",
     "output_type": "stream",
     "text": [
      "The quality of the meal for the grand coalition is: 15.0\n",
      "The quality of the meal for the empty coalition is: 0.0\n"
     ]
    }
   ],
   "execution_count": 5
  },
  {
   "metadata": {},
   "cell_type": "markdown",
   "source": [
    "The chef of the restaurant is now interested in, which cook is the most **talented** one and would like to **distribute a bonus** accordingly.\n",
    "Of particular interest is to find a concept that _distributes_ the payoff of $\\nu(N)$ among the players, as it is assumed that the *grand coalition* $N$ is formed.\n",
    "The distribution of the payoff among the players is called a *solution concept*.\n",
    "A fair way to distribute the bonus is to use the Shapley values, which we will discuss in the next section.\n",
    "\n",
    "\n",
    "### Shapley Values: A Unique Solution Concept\n",
    "\n",
    "Given a cooperative game $(N,\\nu)$, the Shapley value is a payoff vector dividing the total payoff $\\nu(N)$ among all relevant players.\n",
    "The Shapley value of player $i$ is denoted by $\\phi_i(\\nu)$ and is defined as:\n",
    "$$\n",
    "\\phi_i(\\nu) := \\sum_{S \\subseteq N \\setminus \\{i\\}} \\frac{|S|!(|N|-|S|-1)!}{|N|!} [\\nu(S \\cup \\{i\\}) - \\nu(S)].\n",
    "$$\n",
    "The Shapley value can be interpreted as the average marginal contribution of player $i$ across all possible permutations/orderings of the players.\n",
    "Its popularity arises from uniquely satisfies the following properties:\n",
    "\n",
    "- **Efficiency**: The sum of the Shapley values equals the total payoff, i.e. $\\sum_{i \\in N} \\phi_i(\\nu) = \\nu(N)$.\n",
    "This property ensures that the total payoff is distributed among all players. For the cooking game, this means that the total bonus is distributed among the cooks and no bonus is lost.\n",
    "\n",
    "- **Symmetry**: If two players $i$ and $j$ are such that for all coalitions $S \\subseteq N \\setminus \\{i,j\\}$, $\\nu(S \\cup \\{i\\}) = \\nu(S \\cup \\{j\\})$, then $\\phi_i(\\nu) = \\phi_j(\\nu)$.\n",
    "Symmetry implies that players with equal contributions receive equal payoffs. If two cooks in the cooking game have the same talent, they should receive the same bonus.\n",
    "\n",
    "- **Additivity**: For a game $(N,\\nu + \\mu)$ based on two games $(N,\\nu)$ and $(N,\\mu)$, the Shapley value of the sum of the games is the sum of the Shapley values, i.e. $\\phi_i(\\nu + \\mu) = \\phi_i(\\nu) + \\phi_i(\\mu)$.\n",
    "Through Additivity we gain the possibility of calculating the Shapley value for smaller games and summing them up to receive the Shapley value for the larger game. \n",
    "For the cooking game, this means that the chef can calculate the Shapley values for each pair of cooks and sum them up to get the Shapley values for all three cooks.\n",
    "\n",
    "- **Dummy Player**: If for a player $i$ it holds that for all coalitions $S \\subseteq N \\setminus \\{i\\}$, $\\nu(S \\cup \\{i\\}) - \\nu(S) = \\nu(\\{i\\})$ then $\\phi_i(\\nu) = \\nu(\\{i\\})$.\n",
    "Through the Dummy Player property, players that do not contribute at all receive a value of zero.\n",
    "A cook that does not contribute to the meal preparation should not receive a bonus.\n",
    "\n",
    "#### Using `shapiq.ExactComputer` to Calculate Shapley Values Exactly\n",
    "\n",
    "With `shapiq` we can easily calculate the Shapley values for any cooperative game such as the cooking game.\n",
    "Since the cooking game contains only three players, we will use the `ExactComputer` to calculate the Shapley values exactly."
   ]
  },
  {
   "cell_type": "code",
   "source": [
    "from shapiq import ExactComputer\n",
    "\n",
    "# create an ExactComputer object for the cooking game\n",
    "exact_computer = ExactComputer(n_players=cooking_game.n_players, game=cooking_game)\n",
    "\n",
    "# compute the Shapley Values for the game\n",
    "sv_exact = exact_computer(index=\"SV\")\n",
    "print(sv_exact)"
   ],
   "metadata": {
    "collapsed": false,
    "ExecuteTime": {
     "end_time": "2025-03-11T12:31:50.046370Z",
     "start_time": "2025-03-11T12:31:50.043924Z"
    }
   },
   "outputs": [
    {
     "name": "stdout",
     "output_type": "stream",
     "text": [
      "InteractionValues(\n",
      "    index=SV, max_order=1, min_order=0, estimated=False, estimation_budget=None,\n",
      "    n_players=3, baseline_value=0.0,\n",
      "    Top 10 interactions:\n",
      "        (0,): 6.0\n",
      "        (1,): 5.0\n",
      "        (2,): 3.9999999999999996\n",
      "        (): 0.0\n",
      ")\n"
     ]
    }
   ],
   "execution_count": 6
  },
  {
   "metadata": {},
   "cell_type": "markdown",
   "source": [
    "With the exact computer we see that the Shapley values for the cooking game are:\n",
    "- Player 0 (Alice): 6.0\n",
    "- Player 1 (Bob): 5.0\n",
    "- Player 2 (Charlie): 4.0\n",
    "\n",
    "We can also visualize the Shapley values using plots from `shapiq` like the stacked bar plot:"
   ]
  },
  {
   "metadata": {
    "ExecuteTime": {
     "end_time": "2025-03-11T12:31:50.103182Z",
     "start_time": "2025-03-11T12:31:50.058818Z"
    }
   },
   "cell_type": "code",
   "source": [
    "# visualize the Shapley Values\n",
    "sv_exact.plot_stacked_bar(\n",
    "    xlabel=\"Cooks\", ylabel=\"Shapley Values\", feature_names=[\"Alice\", \"Bob\", \"Charlie\"]\n",
    ")"
   ],
   "outputs": [
    {
     "data": {
      "text/plain": [
       "<Figure size 640x480 with 1 Axes>"
      ],
      "image/png": "[encoded data removed]"
     },
     "metadata": {},
     "output_type": "display_data"
    }
   ],
   "execution_count": 7
  },
  {
   "cell_type": "markdown",
   "source": [
    "Based on the Shapley Values we can interpret, that the total bonus of 15 should be distributed as follows:\n",
    "- Alice should receive a bonus of 6.0\n",
    "- Bob should receive a bonus of 5.0\n",
    "- Charlie should receive a bonus of 4.0"
   ],
   "metadata": {
    "collapsed": false
   }
  },
  {
   "metadata": {},
   "cell_type": "markdown",
   "source": [
    "#### Approximating Shapley Values with any Approximation Method\n",
    "While the exact computation of Shapley values is feasible for small games, it becomes computationally expensive for larger games.\n",
    "In such cases, we can use approximation methods to estimate the Shapley values.\n",
    "`shapiq` provides various approximation methods to calculate Shapley values for larger games.\n",
    "Approximators can be found in the `shapiq.approximator` module.\n",
    "Here, let's use `shapiq.KernelSHAP` to approximate the Shapley values for the cooking game.\n",
    "\n",
    "Three players, however, are a bit boring, so let's consider a more interesting Restaurant Game with 10 cooks."
   ]
  },
  {
   "metadata": {
    "ExecuteTime": {
     "end_time": "2025-03-11T12:31:50.114531Z",
     "start_time": "2025-03-11T12:31:50.110634Z"
    }
   },
   "cell_type": "code",
   "source": [
    "from shapiq import powerset\n",
    "\n",
    "# create a random number generator with a seed\n",
    "rng = np.random.default_rng(42)\n",
    "\n",
    "# food quality is a random number times the number of cooks (more cooks, better quality)\n",
    "# contrary to the saying \"too many cooks spoil the broth\"\n",
    "quality_dict = {cooks: rng.random() * len(cooks) for cooks in powerset(range(10))}\n",
    "\n",
    "\n",
    "# define the restaurant game as a function\n",
    "def restaurant_value_function(coalitions: np.ndarray) -> np.ndarray:\n",
    "    \"\"\"Defines the worth of a coalition as a lookup in the characteristic function.\"\"\"\n",
    "    output = []\n",
    "    for coalition in coalitions:\n",
    "        output.append(quality_dict[tuple(np.where(coalition)[0])])\n",
    "    return np.array(output)\n",
    "\n",
    "\n",
    "# we can query the value function for different coalitions\n",
    "cooks_to_check = [\n",
    "    [0, 0, 0, 0, 0, 0, 0, 0, 0, 0],\n",
    "    [1, 0, 1, 0, 1, 0, 1, 0, 1, 0],\n",
    "    [1, 1, 1, 1, 1, 1, 1, 1, 1, 1],\n",
    "]\n",
    "restaurant_value_function(np.array(cooks_to_check))"
   ],
   "outputs": [
    {
     "data": {
      "text/plain": [
       "array([0.        , 4.73012227, 5.31413812])"
      ]
     },
     "execution_count": 8,
     "metadata": {},
     "output_type": "execute_result"
    }
   ],
   "execution_count": 8
  },
  {
   "metadata": {},
   "cell_type": "markdown",
   "source": [
    "The restaurant game is defined as a function `restaurant_value_function` that maps each coalition of cooks to the quality of the meal.\n",
    "The total payoff of the grand coalition is: 5.31413812\n",
    "\n",
    "Now let's approximate the Shapley values with KernelSHAP:"
   ]
  },
  {
   "metadata": {
    "ExecuteTime": {
     "end_time": "2025-03-11T12:31:50.184842Z",
     "start_time": "2025-03-11T12:31:50.126057Z"
    }
   },
   "cell_type": "code",
   "source": [
    "from shapiq import KernelSHAP\n",
    "\n",
    "# create a KernelSHAP object for 10 players\n",
    "approx = KernelSHAP(n=10, random_state=42)\n",
    "\n",
    "# we can now provide the value function to the KernelSHAP and approximate the Shapley values\n",
    "sv_approx = approx(game=restaurant_value_function, budget=100)\n",
    "print(sv_approx)\n",
    "\n",
    "# visualize the Shapley Values\n",
    "sv_approx.plot_stacked_bar(\n",
    "    xlabel=\"Cooks\", ylabel=\"Shapley Values\", feature_names=[f\"Cook {i}\" for i in range(10)]\n",
    ")"
   ],
   "outputs": [
    {
     "name": "stdout",
     "output_type": "stream",
     "text": [
      "InteractionValues(\n",
      "    index=SV, max_order=1, min_order=0, estimated=True, estimation_budget=100,\n",
      "    n_players=10, baseline_value=0.0,\n",
      "    Top 10 interactions:\n",
      "        (4,): 1.287790459559436\n",
      "        (7,): 0.9352473894119481\n",
      "        (6,): 0.7299622903100751\n",
      "        (3,): 0.7097258845148796\n",
      "        (2,): 0.6497115870488815\n",
      "        (8,): 0.6355807212591615\n",
      "        (1,): 0.34334552589711603\n",
      "        (5,): 0.13950820898254898\n",
      "        (9,): 0.026330778439165117\n",
      "        (0,): -0.14306472364380865\n",
      ")\n"
     ]
    },
    {
     "data": {
      "text/plain": [
       "<Figure size 640x480 with 1 Axes>"
      ],
      "image/png": "[encoded data removed]"
     },
     "metadata": {},
     "output_type": "display_data"
    }
   ],
   "execution_count": 9
  },
  {
   "metadata": {},
   "cell_type": "markdown",
   "source": [
    "From this, plot we can see that the Shapley value for cook number 4 is the highest, followed by cook 7, etc.\n",
    "\n",
    "This concludes the first part of the notebook.\n",
    "In the next part, we will discuss how to use Shapley values for Explainable AI (XAI) with `shapiq`."
   ]
  },
  {
   "cell_type": "markdown",
   "source": [
    "## Explainable AI with Shapley Values\n",
    "In the previous section, we discussed the Shapley values and how to calculate them for cooperative games.\n",
    "In this section, we will discuss how to use Shapley values for Explainable AI (XAI) with `shapiq`.\n",
    "\n",
    "### Shapley Values for Local Feature Attribution\n",
    "In the case of machine learning models and local feature attribution, a cooperative game is usually defined as the tuple $(N,\\nu)$ where:\n",
    "\n",
    "- $N$ is a finite set of features $N = \\{1, 2, \\ldots, d\\}$\n",
    "- $\\nu$ is the output of a model $f$ given a local input $x$ restricted on a subset of features $S \\subseteq N$, i.e. $\\nu(S) = f_S(x)$\n",
    "\n",
    "The goal in XAI here is to explain the output of a machine learning provided with access to all feature values $N$ of a data point $x$.\n",
    "The Shapley values can be used to fairly distribute the output of the model among the features (similarly to the cooks in the cooking game in the previous section).\n",
    "To do so, the model needs to be evaluated on partial inputs $S \\subseteq N$ to determine the contribution of each feature to the model output.\n",
    "\n",
    "However, naturally, machine learning models operate on a _complete_ feature space $f: \\mathcal{X}^d \\rightarrow \\mathbb{R}$ and not on subsets $S \\subseteq N$ of features.\n",
    "Most machine learning models cannot be evaluated with missing features.\n",
    "Therefore, we need to define a restricted model $f_S: \\mathcal{X}^{|S|} \\rightarrow \\mathbb{R}$ that operates only on the subset of features $S$.\n",
    "In practice this is achieved by imputing missing features with values sampled from a background distribution.\n",
    "\n",
    "Different imputation methods exist and are implemented in `shapiq`:\n",
    "- `shapiq.BaselineImputer`: Impute missing features with a constant value (e.g. 0) or a summary statistic (e.g. mean/mode).\n",
    "\n",
    "- `shapiq.MarginalImputer`: Impute missing features $X^{\\bar{S}}$ with the marginal feature distribution $X^{\\bar{S}} \\sim P(X^{\\bar{S}})$.\n",
    "\n",
    "- `shapiq.ConditionalImputer`: Impute missing features $X^{\\bar{S}}$ with the conditional feature distribution $X^{\\bar{S}} \\sim P(X^{\\bar{S}}|X^S)$. Note that estimating the conditional distribution can be challenging and often only approximate distributions are used.\n",
    "\n",
    "To illustrate how to use `shapiq` for XAI, we will first train and evaluate a simple Random Forest model on the California Housing dataset.\n",
    "Then we will use the Shapley values to explain the model's predictions for a single data point.\n",
    "Finally, we will visualize the Shapley values to interpret the model's decision."
   ],
   "metadata": {
    "collapsed": false
   }
  },
  {
   "metadata": {
    "ExecuteTime": {
     "end_time": "2025-03-11T12:31:52.281897Z",
     "start_time": "2025-03-11T12:31:50.201130Z"
    }
   },
   "cell_type": "code",
   "source": [
    "from sklearn.ensemble import RandomForestRegressor\n",
    "from sklearn.model_selection import train_test_split\n",
    "\n",
    "data, targets = shapiq.datasets.load_california_housing()\n",
    "feature_names = list(data.columns)\n",
    "n_features = len(feature_names)\n",
    "print(\"Feature names:\", feature_names)\n",
    "\n",
    "# split the data into training and test set\n",
    "x_train, x_test, y_train, y_test = train_test_split(\n",
    "    data.values, targets.values, test_size=0.2, random_state=42\n",
    ")\n",
    "\n",
    "# train a Random Forest model\n",
    "rf = RandomForestRegressor(n_estimators=30, random_state=42)\n",
    "rf.fit(x_train, y_train)\n",
    "\n",
    "# evaluate the model\n",
    "test_score = rf.score(x_test, y_test)\n",
    "print(f\"Test R^2 score: {test_score:.4f}\")"
   ],
   "outputs": [
    {
     "name": "stdout",
     "output_type": "stream",
     "text": [
      "Feature names: ['MedInc', 'HouseAge', 'AveRooms', 'AveBedrms', 'Population', 'AveOccup', 'Latitude', 'Longitude']\n",
      "Test R^2 score: 0.8011\n"
     ]
    }
   ],
   "execution_count": 10
  },
  {
   "metadata": {},
   "cell_type": "markdown",
   "source": [
    "The model achieves an $R^2$ score of about 0.80 on the test set.\n",
    "\n",
    "Let's select a single data point from the test set and explain the model's prediction using the Shapley values."
   ]
  },
  {
   "metadata": {
    "ExecuteTime": {
     "end_time": "2025-03-11T12:31:52.311122Z",
     "start_time": "2025-03-11T12:31:52.284929Z"
    }
   },
   "cell_type": "code",
   "source": [
    "# select a single data point from the test set\n",
    "instance_id = 2\n",
    "x_explain = x_test[instance_id]\n",
    "y_explain = rf.predict([x_explain])\n",
    "print(f\"Data point to explain {instance_id} is predicted as {y_explain[0]}\")\n",
    "avg_prediction = np.mean(rf.predict(x_test))\n",
    "print(f\"The average prediction of the model on the test set is {avg_prediction}\")"
   ],
   "outputs": [
    {
     "name": "stdout",
     "output_type": "stream",
     "text": [
      "Data point to explain 2 is predicted as 4.955573000000001\n",
      "The average prediction of the model on the test set is 2.06741967377261\n"
     ]
    }
   ],
   "execution_count": 11
  },
  {
   "metadata": {},
   "cell_type": "markdown",
   "source": [
    "The data point we want to explain is predicted to have a value of around **4.9**.\n",
    "This is a lot higher than the model's average prediction of around **2.1** for all data points in the test set.\n",
    "\n",
    "### Using `shapiq.TabularExplainer` to Compute Shapley Values\n",
    "With the Shapley values, we can see why the model predicts such a high value in comparison to the average prediction. For this we will use the `shapiq.TabularExplainer` class:"
   ]
  },
  {
   "metadata": {
    "ExecuteTime": {
     "end_time": "2025-03-11T12:31:52.538424Z",
     "start_time": "2025-03-11T12:31:52.320648Z"
    }
   },
   "cell_type": "code",
   "source": [
    "# create explainer\n",
    "explainer = shapiq.TabularExplainer(\n",
    "    model=rf,  # insert the model to be explained\n",
    "    data=x_test,  # insert the background data\n",
    "    imputer=\"marginal\",  # specify the imputation strategy\n",
    "    index=\"SV\",  # define the index to be used SV for the Shapley Value\n",
    "    max_order=1,  # define the maximum order of interactions (1 for SV)\n",
    "    sample_size=100,  # define how well the background distribution is estimated\n",
    "    random_state=42,  # optionally set a random state for reproducibility\n",
    ")\n",
    "sv = explainer.explain(x_explain, budget=2**n_features)\n",
    "print(sv)\n",
    "print(\"\\nSum of Shapley values:\", sum(sv.values) + sv.baseline_value)\n",
    "print(\"Model prediction:\", y_explain[0])"
   ],
   "outputs": [
    {
     "name": "stdout",
     "output_type": "stream",
     "text": [
      "InteractionValues(\n",
      "    index=SV, max_order=1, min_order=0, estimated=False, estimation_budget=256,\n",
      "    n_players=8, baseline_value=2.06741967377261,\n",
      "    Top 10 interactions:\n",
      "        (): 2.06741967377261\n",
      "        (5,): 0.9985580385502376\n",
      "        (7,): 0.7416053365589125\n",
      "        (1,): 0.46783596819365153\n",
      "        (6,): 0.3425535994434762\n",
      "        (0,): 0.15516249941752958\n",
      "        (3,): 0.10739289979338831\n",
      "        (4,): 0.03896735344707697\n",
      "        (2,): 0.036077622124665316\n",
      ")\n",
      "\n",
      "Sum of Shapley values: 7.022992665074158\n",
      "Model prediction: 4.955573000000001\n"
     ]
    }
   ],
   "execution_count": 12
  },
  {
   "metadata": {},
   "cell_type": "markdown",
   "source": [
    "The shapley values show that all features contribute positively to the model's prediction.\n",
    "Notice that the sum of the Shapley values plus the baseline value equals the model's prediction, which is a property of the efficiency property of the Shapley values.\n",
    "\n",
    "We can also visualize the Shapley values using different kind of visualizations implemented in `shapiq`.\n",
    "Here, let's use `plot_force` method of the `shapiq.InteractionValues` class to visualize the Shapley values:"
   ]
  },
  {
   "metadata": {
    "ExecuteTime": {
     "end_time": "2025-03-11T12:31:52.707051Z",
     "start_time": "2025-03-11T12:31:52.546583Z"
    }
   },
   "cell_type": "code",
   "source": [
    "# visualize the Shapley Values\n",
    "sv.plot_force(feature_names=feature_names, show=True)"
   ],
   "outputs": [
    {
     "data": {
      "text/plain": [
       "<Figure size 1500x400 with 1 Axes>"
      ],
      "image/png": "[encoded data removed]"
     },
     "metadata": {},
     "output_type": "display_data"
    }
   ],
   "execution_count": 13
  },
  {
   "metadata": {},
   "cell_type": "markdown",
   "source": [
    "For higher number of features, computing the Shapley values exactly can be computationally expensive (exponential complexity).\n",
    "In such cases, we can use approximation methods to estimate the Shapley values which are implemented in `shapiq.approximator` and under the hood of the `shapiq.TabularExplainer` class.\n",
    "\n",
    "### Using `shapiq.TreeExplainer` for exact Shapley Values with Tree-based Models\n",
    "\n",
    "For some models, the Shapley values can also be computed more efficiently using **model-specific** algorithms.\n",
    "For example, tree-based models such as the random forest used here can be computed more efficiently using the `shapiq.TreeExplainer` class."
   ]
  },
  {
   "metadata": {
    "ExecuteTime": {
     "end_time": "2025-03-11T12:32:13.881961Z",
     "start_time": "2025-03-11T12:31:52.715572Z"
    }
   },
   "cell_type": "code",
   "source": [
    "# create explainer with TreeExplainer\n",
    "tree_explainer = shapiq.TreeExplainer(model=rf, index=\"SV\", max_order=1)\n",
    "sv_tree = tree_explainer.explain(x_explain)\n",
    "print(sv_tree)\n",
    "print(\"\\nSum of Shapley values:\", sum(sv_tree.get_n_order_values(1)) + sv_tree.baseline_value)\n",
    "print(\"Model prediction:\", y_explain[0])"
   ],
   "outputs": [
    {
     "name": "stdout",
     "output_type": "stream",
     "text": [
      "InteractionValues(\n",
      "    index=SV, max_order=1, min_order=0, estimated=False, estimation_budget=None,\n",
      "    n_players=8, baseline_value=2.072542972807655,\n",
      "    Top 10 interactions:\n",
      "        (): 2.072542972807655\n",
      "        (5,): 1.101507632323374\n",
      "        (7,): 0.6736399344247408\n",
      "        (1,): 0.5179063757299113\n",
      "        (0,): 0.24473196354154486\n",
      "        (6,): 0.22766481391854215\n",
      "        (3,): 0.07790553543579797\n",
      "        (2,): 0.025014360107855634\n",
      "        (4,): 0.014659411710818913\n",
      ")\n",
      "\n",
      "Sum of Shapley values: 4.955573000000241\n",
      "Model prediction: 4.955573000000001\n"
     ]
    }
   ],
   "execution_count": 14
  },
  {
   "metadata": {
    "ExecuteTime": {
     "end_time": "2025-03-11T12:32:13.975150Z",
     "start_time": "2025-03-11T12:32:13.891401Z"
    }
   },
   "cell_type": "code",
   "source": [
    "# visualize the Shapley Values\n",
    "sv_tree.plot_force(feature_names=feature_names, show=True)"
   ],
   "outputs": [
    {
     "data": {
      "text/plain": [
       "<Figure size 1500x400 with 1 Axes>"
      ],
      "image/png": "[encoded data removed]"
     },
     "metadata": {},
     "output_type": "display_data"
    }
   ],
   "execution_count": 15
  }
 ],
 "metadata": {
  "kernelspec": {
   "display_name": "Python 3",
   "language": "python",
   "name": "python3"
  },
  "language_info": {
   "codemirror_mode": {
    "name": "ipython",
    "version": 2
   },
   "file_extension": ".py",
   "mimetype": "text/x-python",
   "name": "python",
   "nbconvert_exporter": "python",
   "pygments_lexer": "ipython2",
   "version": "2.7.6"
  }
 },
 "nbformat": 4,
 "nbformat_minor": 0
}
