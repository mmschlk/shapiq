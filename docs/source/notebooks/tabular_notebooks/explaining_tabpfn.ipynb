{
 "cells": [
  {
   "metadata": {},
   "cell_type": "markdown",
   "source": [
    "# Explaining TabPFN\n",
    "\n",
    "TabPFN is a foundation model for tabular data, which uses in-context learning to do solve classification and regression tasks.\n",
    "TabPFN outperforms traditional models like Random Forest, Gradient Boosting for small datasets and raises the state-of-the-art for tabular data!\n",
    "Recently, a major update was released, which includes a new architecture and an updated API.\n",
    "\n",
    "For more information about TabPFN, check the [github repository](https://github.com/PriorLabs/TabPFN) and the associated papers ([TabPFN](https://openreview.net/forum?id=eu9fVjVasr4), [TabPFNv2](https://www.nature.com/articles/s41586-024-08328-6)).\n",
    "\n",
    "In this tutorial, we see how we can **use shapiq to explain the predictions of TabPFNv2**. \n",
    "We will use the California housing dataset and train a TabPFN model to predict the house prices.\n",
    "Many explanation methods show that models tend to learn interactions between the latitude and longitude features, containing information about the exact location of a house.\n",
    "We want to see if TabPFN also learns the interactions between latitude and longitude.\n",
    "\n",
    "First, lets import the libraries (tabpfn and shapiq) and check their versions.\n",
    "Note that this tutorial uses the latest version of TabPFN (> 2.0.0) and will not necessarily work with older versions."
   ],
   "id": "af7fe5c630d43e1d"
  },
  {
   "cell_type": "code",
   "id": "initial_id",
   "metadata": {
    "collapsed": true,
    "ExecuteTime": {
     "end_time": "2025-01-09T14:23:43.643915Z",
     "start_time": "2025-01-09T14:23:39.475714Z"
    }
   },
   "source": [
    "from importlib.metadata import version\n",
    "\n",
    "import shapiq\n",
    "import tabpfn\n",
    "import torch\n",
    "\n",
    "device = torch.device(\"cuda\" if torch.cuda.is_available() else \"cpu\")\n",
    "\n",
    "print(\"shapiq version: \", shapiq.__version__)\n",
    "print(\"tabpfn version: \", version(\"tabpfn\"))\n",
    "print(\"Device: \", device)"
   ],
   "outputs": [
    {
     "name": "stdout",
     "output_type": "stream",
     "text": [
      "shapiq version:  1.1.1 tabpfn version:  2.0.0\n",
      "Device:  cpu\n"
     ]
    }
   ],
   "execution_count": 3
  },
  {
   "metadata": {},
   "cell_type": "markdown",
   "source": [
    "## Get the California Housing Data\n",
    "Now let's load the California housing dataset and inspect the data."
   ],
   "id": "229e7c0478fc1c96"
  },
  {
   "metadata": {
    "ExecuteTime": {
     "end_time": "2025-01-09T14:23:43.707421Z",
     "start_time": "2025-01-09T14:23:43.645913Z"
    }
   },
   "cell_type": "code",
   "source": [
    "x_data, y_data = shapiq.datasets.load_california_housing()\n",
    "feature_names = x_data.columns\n",
    "\n",
    "# copy the data to make sure we don't modify the original data\n",
    "dataset = x_data.copy()\n",
    "dataset[\"HousePrice\"] = y_data\n",
    "display(dataset.head())\n",
    "display(dataset[\"HousePrice\"].describe())"
   ],
   "id": "af75a5d50fbb096e",
   "outputs": [
    {
     "data": {
      "text/plain": [
       "   MedInc  HouseAge  AveRooms  AveBedrms  Population  AveOccup  Latitude  \\\n",
       "0  8.3252      41.0  6.984127   1.023810       322.0  2.555556     37.88   \n",
       "1  8.3014      21.0  6.238137   0.971880      2401.0  2.109842     37.86   \n",
       "2  7.2574      52.0  8.288136   1.073446       496.0  2.802260     37.85   \n",
       "3  5.6431      52.0  5.817352   1.073059       558.0  2.547945     37.85   \n",
       "4  3.8462      52.0  6.281853   1.081081       565.0  2.181467     37.85   \n",
       "\n",
       "   Longitude  HousePrice  \n",
       "0    -122.23       4.526  \n",
       "1    -122.22       3.585  \n",
       "2    -122.24       3.521  \n",
       "3    -122.25       3.413  \n",
       "4    -122.25       3.422  "
      ],
      "text/html": [
       "<div>\n",
       "<style scoped>\n",
       "    .dataframe tbody tr th:only-of-type {\n",
       "        vertical-align: middle;\n",
       "    }\n",
       "\n",
       "    .dataframe tbody tr th {\n",
       "        vertical-align: top;\n",
       "    }\n",
       "\n",
       "    .dataframe thead th {\n",
       "        text-align: right;\n",
       "    }\n",
       "</style>\n",
       "<table border=\"1\" class=\"dataframe\">\n",
       "  <thead>\n",
       "    <tr style=\"text-align: right;\">\n",
       "      <th></th>\n",
       "      <th>MedInc</th>\n",
       "      <th>HouseAge</th>\n",
       "      <th>AveRooms</th>\n",
       "      <th>AveBedrms</th>\n",
       "      <th>Population</th>\n",
       "      <th>AveOccup</th>\n",
       "      <th>Latitude</th>\n",
       "      <th>Longitude</th>\n",
       "      <th>HousePrice</th>\n",
       "    </tr>\n",
       "  </thead>\n",
       "  <tbody>\n",
       "    <tr>\n",
       "      <th>0</th>\n",
       "      <td>8.3252</td>\n",
       "      <td>41.0</td>\n",
       "      <td>6.984127</td>\n",
       "      <td>1.023810</td>\n",
       "      <td>322.0</td>\n",
       "      <td>2.555556</td>\n",
       "      <td>37.88</td>\n",
       "      <td>-122.23</td>\n",
       "      <td>4.526</td>\n",
       "    </tr>\n",
       "    <tr>\n",
       "      <th>1</th>\n",
       "      <td>8.3014</td>\n",
       "      <td>21.0</td>\n",
       "      <td>6.238137</td>\n",
       "      <td>0.971880</td>\n",
       "      <td>2401.0</td>\n",
       "      <td>2.109842</td>\n",
       "      <td>37.86</td>\n",
       "      <td>-122.22</td>\n",
       "      <td>3.585</td>\n",
       "    </tr>\n",
       "    <tr>\n",
       "      <th>2</th>\n",
       "      <td>7.2574</td>\n",
       "      <td>52.0</td>\n",
       "      <td>8.288136</td>\n",
       "      <td>1.073446</td>\n",
       "      <td>496.0</td>\n",
       "      <td>2.802260</td>\n",
       "      <td>37.85</td>\n",
       "      <td>-122.24</td>\n",
       "      <td>3.521</td>\n",
       "    </tr>\n",
       "    <tr>\n",
       "      <th>3</th>\n",
       "      <td>5.6431</td>\n",
       "      <td>52.0</td>\n",
       "      <td>5.817352</td>\n",
       "      <td>1.073059</td>\n",
       "      <td>558.0</td>\n",
       "      <td>2.547945</td>\n",
       "      <td>37.85</td>\n",
       "      <td>-122.25</td>\n",
       "      <td>3.413</td>\n",
       "    </tr>\n",
       "    <tr>\n",
       "      <th>4</th>\n",
       "      <td>3.8462</td>\n",
       "      <td>52.0</td>\n",
       "      <td>6.281853</td>\n",
       "      <td>1.081081</td>\n",
       "      <td>565.0</td>\n",
       "      <td>2.181467</td>\n",
       "      <td>37.85</td>\n",
       "      <td>-122.25</td>\n",
       "      <td>3.422</td>\n",
       "    </tr>\n",
       "  </tbody>\n",
       "</table>\n",
       "</div>"
      ]
     },
     "metadata": {},
     "output_type": "display_data"
    },
    {
     "data": {
      "text/plain": [
       "count    20640.000000\n",
       "mean         2.068558\n",
       "std          1.153956\n",
       "min          0.149990\n",
       "25%          1.196000\n",
       "50%          1.797000\n",
       "75%          2.647250\n",
       "max          5.000010\n",
       "Name: HousePrice, dtype: float64"
      ]
     },
     "metadata": {},
     "output_type": "display_data"
    }
   ],
   "execution_count": 4
  },
  {
   "metadata": {},
   "cell_type": "markdown",
   "source": [
    "Now we have loaded the data.\n",
    "**HousePrice** is the target variable we want to predict.\n",
    "The target ranges from 0.15 to 5.0.\n",
    "\n",
    "In order to use TabPFN, we need to split the data into a training and testing set.\n",
    "Note, that TabPFN works best for **small sized datasets** (less than 10k samples).\n",
    "So let's select a train set of 10k samples."
   ],
   "id": "2d3e6649c1ae8450"
  },
  {
   "metadata": {
    "ExecuteTime": {
     "end_time": "2025-01-09T14:23:43.723421Z",
     "start_time": "2025-01-09T14:23:43.709411Z"
    }
   },
   "cell_type": "code",
   "source": [
    "# split the data into training and testing sets\n",
    "from sklearn.model_selection import train_test_split\n",
    "\n",
    "x_train, x_test, y_train, y_test = train_test_split(\n",
    "    x_data.values, y_data.values, train_size=500, random_state=42\n",
    ")\n",
    "print(\"Train data shape: \", x_train.shape, y_train.shape)\n",
    "print(\"Test data shape: \", x_test.shape, y_test.shape)"
   ],
   "id": "e77933887d0a119f",
   "outputs": [
    {
     "name": "stdout",
     "output_type": "stream",
     "text": [
      "Train data shape:  (500, 8) (500,)\n",
      "Test data shape:  (20140, 8) (20140,)\n"
     ]
    }
   ],
   "execution_count": 5
  },
  {
   "metadata": {},
   "cell_type": "markdown",
   "source": [
    "## Fit TabPFN\n",
    "Now that we have the data, we can fit TabPFN to the training data and make it ready for predictions."
   ],
   "id": "8be176b5890b9eaf"
  },
  {
   "metadata": {
    "ExecuteTime": {
     "end_time": "2025-01-09T14:23:46.264555Z",
     "start_time": "2025-01-09T14:23:46.027950Z"
    }
   },
   "cell_type": "code",
   "source": [
    "model = tabpfn.TabPFNRegressor(n_jobs=8, device=device)\n",
    "model.fit(x_train, y_train)"
   ],
   "id": "a1100c73d7b0867e",
   "outputs": [
    {
     "data": {
      "text/plain": [
       "TabPFNRegressor(device=device(type='cpu'), n_jobs=8)"
      ],
      "text/html": [
       "<style>#sk-container-id-1 {\n",
       "  /* Definition of color scheme common for light and dark mode */\n",
       "  --sklearn-color-text: black;\n",
       "  --sklearn-color-line: gray;\n",
       "  /* Definition of color scheme for unfitted estimators */\n",
       "  --sklearn-color-unfitted-level-0: #fff5e6;\n",
       "  --sklearn-color-unfitted-level-1: #f6e4d2;\n",
       "  --sklearn-color-unfitted-level-2: #ffe0b3;\n",
       "  --sklearn-color-unfitted-level-3: chocolate;\n",
       "  /* Definition of color scheme for fitted estimators */\n",
       "  --sklearn-color-fitted-level-0: #f0f8ff;\n",
       "  --sklearn-color-fitted-level-1: #d4ebff;\n",
       "  --sklearn-color-fitted-level-2: #b3dbfd;\n",
       "  --sklearn-color-fitted-level-3: cornflowerblue;\n",
       "\n",
       "  /* Specific color for light theme */\n",
       "  --sklearn-color-text-on-default-background: var(--sg-text-color, var(--theme-code-foreground, var(--jp-content-font-color1, black)));\n",
       "  --sklearn-color-background: var(--sg-background-color, var(--theme-background, var(--jp-layout-color0, white)));\n",
       "  --sklearn-color-border-box: var(--sg-text-color, var(--theme-code-foreground, var(--jp-content-font-color1, black)));\n",
       "  --sklearn-color-icon: #696969;\n",
       "\n",
       "  @media (prefers-color-scheme: dark) {\n",
       "    /* Redefinition of color scheme for dark theme */\n",
       "    --sklearn-color-text-on-default-background: var(--sg-text-color, var(--theme-code-foreground, var(--jp-content-font-color1, white)));\n",
       "    --sklearn-color-background: var(--sg-background-color, var(--theme-background, var(--jp-layout-color0, #111)));\n",
       "    --sklearn-color-border-box: var(--sg-text-color, var(--theme-code-foreground, var(--jp-content-font-color1, white)));\n",
       "    --sklearn-color-icon: #878787;\n",
       "  }\n",
       "}\n",
       "\n",
       "#sk-container-id-1 {\n",
       "  color: var(--sklearn-color-text);\n",
       "}\n",
       "\n",
       "#sk-container-id-1 pre {\n",
       "  padding: 0;\n",
       "}\n",
       "\n",
       "#sk-container-id-1 input.sk-hidden--visually {\n",
       "  border: 0;\n",
       "  clip: rect(1px 1px 1px 1px);\n",
       "  clip: rect(1px, 1px, 1px, 1px);\n",
       "  height: 1px;\n",
       "  margin: -1px;\n",
       "  overflow: hidden;\n",
       "  padding: 0;\n",
       "  position: absolute;\n",
       "  width: 1px;\n",
       "}\n",
       "\n",
       "#sk-container-id-1 div.sk-dashed-wrapped {\n",
       "  border: 1px dashed var(--sklearn-color-line);\n",
       "  margin: 0 0.4em 0.5em 0.4em;\n",
       "  box-sizing: border-box;\n",
       "  padding-bottom: 0.4em;\n",
       "  background-color: var(--sklearn-color-background);\n",
       "}\n",
       "\n",
       "#sk-container-id-1 div.sk-container {\n",
       "  /* jupyter's `normalize.less` sets `[hidden] { display: none; }`\n",
       "     but bootstrap.min.css set `[hidden] { display: none !important; }`\n",
       "     so we also need the `!important` here to be able to override the\n",
       "     default hidden behavior on the sphinx rendered scikit-learn.org.\n",
       "     See: https://github.com/scikit-learn/scikit-learn/issues/21755 */\n",
       "  display: inline-block !important;\n",
       "  position: relative;\n",
       "}\n",
       "\n",
       "#sk-container-id-1 div.sk-text-repr-fallback {\n",
       "  display: none;\n",
       "}\n",
       "\n",
       "div.sk-parallel-item,\n",
       "div.sk-serial,\n",
       "div.sk-item {\n",
       "  /* draw centered vertical line to link estimators */\n",
       "  background-image: linear-gradient(var(--sklearn-color-text-on-default-background), var(--sklearn-color-text-on-default-background));\n",
       "  background-size: 2px 100%;\n",
       "  background-repeat: no-repeat;\n",
       "  background-position: center center;\n",
       "}\n",
       "\n",
       "/* Parallel-specific style estimator block */\n",
       "\n",
       "#sk-container-id-1 div.sk-parallel-item::after {\n",
       "  content: \"\";\n",
       "  width: 100%;\n",
       "  border-bottom: 2px solid var(--sklearn-color-text-on-default-background);\n",
       "  flex-grow: 1;\n",
       "}\n",
       "\n",
       "#sk-container-id-1 div.sk-parallel {\n",
       "  display: flex;\n",
       "  align-items: stretch;\n",
       "  justify-content: center;\n",
       "  background-color: var(--sklearn-color-background);\n",
       "  position: relative;\n",
       "}\n",
       "\n",
       "#sk-container-id-1 div.sk-parallel-item {\n",
       "  display: flex;\n",
       "  flex-direction: column;\n",
       "}\n",
       "\n",
       "#sk-container-id-1 div.sk-parallel-item:first-child::after {\n",
       "  align-self: flex-end;\n",
       "  width: 50%;\n",
       "}\n",
       "\n",
       "#sk-container-id-1 div.sk-parallel-item:last-child::after {\n",
       "  align-self: flex-start;\n",
       "  width: 50%;\n",
       "}\n",
       "\n",
       "#sk-container-id-1 div.sk-parallel-item:only-child::after {\n",
       "  width: 0;\n",
       "}\n",
       "\n",
       "/* Serial-specific style estimator block */\n",
       "\n",
       "#sk-container-id-1 div.sk-serial {\n",
       "  display: flex;\n",
       "  flex-direction: column;\n",
       "  align-items: center;\n",
       "  background-color: var(--sklearn-color-background);\n",
       "  padding-right: 1em;\n",
       "  padding-left: 1em;\n",
       "}\n",
       "\n",
       "\n",
       "/* Toggleable style: style used for estimator/Pipeline/ColumnTransformer box that is\n",
       "clickable and can be expanded/collapsed.\n",
       "- Pipeline and ColumnTransformer use this feature and define the default style\n",
       "- Estimators will overwrite some part of the style using the `sk-estimator` class\n",
       "*/\n",
       "\n",
       "/* Pipeline and ColumnTransformer style (default) */\n",
       "\n",
       "#sk-container-id-1 div.sk-toggleable {\n",
       "  /* Default theme specific background. It is overwritten whether we have a\n",
       "  specific estimator or a Pipeline/ColumnTransformer */\n",
       "  background-color: var(--sklearn-color-background);\n",
       "}\n",
       "\n",
       "/* Toggleable label */\n",
       "#sk-container-id-1 label.sk-toggleable__label {\n",
       "  cursor: pointer;\n",
       "  display: block;\n",
       "  width: 100%;\n",
       "  margin-bottom: 0;\n",
       "  padding: 0.5em;\n",
       "  box-sizing: border-box;\n",
       "  text-align: center;\n",
       "}\n",
       "\n",
       "#sk-container-id-1 label.sk-toggleable__label-arrow:before {\n",
       "  /* Arrow on the left of the label */\n",
       "  content: \"▸\";\n",
       "  float: left;\n",
       "  margin-right: 0.25em;\n",
       "  color: var(--sklearn-color-icon);\n",
       "}\n",
       "\n",
       "#sk-container-id-1 label.sk-toggleable__label-arrow:hover:before {\n",
       "  color: var(--sklearn-color-text);\n",
       "}\n",
       "\n",
       "/* Toggleable content - dropdown */\n",
       "\n",
       "#sk-container-id-1 div.sk-toggleable__content {\n",
       "  max-height: 0;\n",
       "  max-width: 0;\n",
       "  overflow: hidden;\n",
       "  text-align: left;\n",
       "  /* unfitted */\n",
       "  background-color: var(--sklearn-color-unfitted-level-0);\n",
       "}\n",
       "\n",
       "#sk-container-id-1 div.sk-toggleable__content.fitted {\n",
       "  /* fitted */\n",
       "  background-color: var(--sklearn-color-fitted-level-0);\n",
       "}\n",
       "\n",
       "#sk-container-id-1 div.sk-toggleable__content pre {\n",
       "  margin: 0.2em;\n",
       "  border-radius: 0.25em;\n",
       "  color: var(--sklearn-color-text);\n",
       "  /* unfitted */\n",
       "  background-color: var(--sklearn-color-unfitted-level-0);\n",
       "}\n",
       "\n",
       "#sk-container-id-1 div.sk-toggleable__content.fitted pre {\n",
       "  /* unfitted */\n",
       "  background-color: var(--sklearn-color-fitted-level-0);\n",
       "}\n",
       "\n",
       "#sk-container-id-1 input.sk-toggleable__control:checked~div.sk-toggleable__content {\n",
       "  /* Expand drop-down */\n",
       "  max-height: 200px;\n",
       "  max-width: 100%;\n",
       "  overflow: auto;\n",
       "}\n",
       "\n",
       "#sk-container-id-1 input.sk-toggleable__control:checked~label.sk-toggleable__label-arrow:before {\n",
       "  content: \"▾\";\n",
       "}\n",
       "\n",
       "/* Pipeline/ColumnTransformer-specific style */\n",
       "\n",
       "#sk-container-id-1 div.sk-label input.sk-toggleable__control:checked~label.sk-toggleable__label {\n",
       "  color: var(--sklearn-color-text);\n",
       "  background-color: var(--sklearn-color-unfitted-level-2);\n",
       "}\n",
       "\n",
       "#sk-container-id-1 div.sk-label.fitted input.sk-toggleable__control:checked~label.sk-toggleable__label {\n",
       "  background-color: var(--sklearn-color-fitted-level-2);\n",
       "}\n",
       "\n",
       "/* Estimator-specific style */\n",
       "\n",
       "/* Colorize estimator box */\n",
       "#sk-container-id-1 div.sk-estimator input.sk-toggleable__control:checked~label.sk-toggleable__label {\n",
       "  /* unfitted */\n",
       "  background-color: var(--sklearn-color-unfitted-level-2);\n",
       "}\n",
       "\n",
       "#sk-container-id-1 div.sk-estimator.fitted input.sk-toggleable__control:checked~label.sk-toggleable__label {\n",
       "  /* fitted */\n",
       "  background-color: var(--sklearn-color-fitted-level-2);\n",
       "}\n",
       "\n",
       "#sk-container-id-1 div.sk-label label.sk-toggleable__label,\n",
       "#sk-container-id-1 div.sk-label label {\n",
       "  /* The background is the default theme color */\n",
       "  color: var(--sklearn-color-text-on-default-background);\n",
       "}\n",
       "\n",
       "/* On hover, darken the color of the background */\n",
       "#sk-container-id-1 div.sk-label:hover label.sk-toggleable__label {\n",
       "  color: var(--sklearn-color-text);\n",
       "  background-color: var(--sklearn-color-unfitted-level-2);\n",
       "}\n",
       "\n",
       "/* Label box, darken color on hover, fitted */\n",
       "#sk-container-id-1 div.sk-label.fitted:hover label.sk-toggleable__label.fitted {\n",
       "  color: var(--sklearn-color-text);\n",
       "  background-color: var(--sklearn-color-fitted-level-2);\n",
       "}\n",
       "\n",
       "/* Estimator label */\n",
       "\n",
       "#sk-container-id-1 div.sk-label label {\n",
       "  font-family: monospace;\n",
       "  font-weight: bold;\n",
       "  display: inline-block;\n",
       "  line-height: 1.2em;\n",
       "}\n",
       "\n",
       "#sk-container-id-1 div.sk-label-container {\n",
       "  text-align: center;\n",
       "}\n",
       "\n",
       "/* Estimator-specific */\n",
       "#sk-container-id-1 div.sk-estimator {\n",
       "  font-family: monospace;\n",
       "  border: 1px dotted var(--sklearn-color-border-box);\n",
       "  border-radius: 0.25em;\n",
       "  box-sizing: border-box;\n",
       "  margin-bottom: 0.5em;\n",
       "  /* unfitted */\n",
       "  background-color: var(--sklearn-color-unfitted-level-0);\n",
       "}\n",
       "\n",
       "#sk-container-id-1 div.sk-estimator.fitted {\n",
       "  /* fitted */\n",
       "  background-color: var(--sklearn-color-fitted-level-0);\n",
       "}\n",
       "\n",
       "/* on hover */\n",
       "#sk-container-id-1 div.sk-estimator:hover {\n",
       "  /* unfitted */\n",
       "  background-color: var(--sklearn-color-unfitted-level-2);\n",
       "}\n",
       "\n",
       "#sk-container-id-1 div.sk-estimator.fitted:hover {\n",
       "  /* fitted */\n",
       "  background-color: var(--sklearn-color-fitted-level-2);\n",
       "}\n",
       "\n",
       "/* Specification for estimator info (e.g. \"i\" and \"?\") */\n",
       "\n",
       "/* Common style for \"i\" and \"?\" */\n",
       "\n",
       ".sk-estimator-doc-link,\n",
       "a:link.sk-estimator-doc-link,\n",
       "a:visited.sk-estimator-doc-link {\n",
       "  float: right;\n",
       "  font-size: smaller;\n",
       "  line-height: 1em;\n",
       "  font-family: monospace;\n",
       "  background-color: var(--sklearn-color-background);\n",
       "  border-radius: 1em;\n",
       "  height: 1em;\n",
       "  width: 1em;\n",
       "  text-decoration: none !important;\n",
       "  margin-left: 1ex;\n",
       "  /* unfitted */\n",
       "  border: var(--sklearn-color-unfitted-level-1) 1pt solid;\n",
       "  color: var(--sklearn-color-unfitted-level-1);\n",
       "}\n",
       "\n",
       ".sk-estimator-doc-link.fitted,\n",
       "a:link.sk-estimator-doc-link.fitted,\n",
       "a:visited.sk-estimator-doc-link.fitted {\n",
       "  /* fitted */\n",
       "  border: var(--sklearn-color-fitted-level-1) 1pt solid;\n",
       "  color: var(--sklearn-color-fitted-level-1);\n",
       "}\n",
       "\n",
       "/* On hover */\n",
       "div.sk-estimator:hover .sk-estimator-doc-link:hover,\n",
       ".sk-estimator-doc-link:hover,\n",
       "div.sk-label-container:hover .sk-estimator-doc-link:hover,\n",
       ".sk-estimator-doc-link:hover {\n",
       "  /* unfitted */\n",
       "  background-color: var(--sklearn-color-unfitted-level-3);\n",
       "  color: var(--sklearn-color-background);\n",
       "  text-decoration: none;\n",
       "}\n",
       "\n",
       "div.sk-estimator.fitted:hover .sk-estimator-doc-link.fitted:hover,\n",
       ".sk-estimator-doc-link.fitted:hover,\n",
       "div.sk-label-container:hover .sk-estimator-doc-link.fitted:hover,\n",
       ".sk-estimator-doc-link.fitted:hover {\n",
       "  /* fitted */\n",
       "  background-color: var(--sklearn-color-fitted-level-3);\n",
       "  color: var(--sklearn-color-background);\n",
       "  text-decoration: none;\n",
       "}\n",
       "\n",
       "/* Span, style for the box shown on hovering the info icon */\n",
       ".sk-estimator-doc-link span {\n",
       "  display: none;\n",
       "  z-index: 9999;\n",
       "  position: relative;\n",
       "  font-weight: normal;\n",
       "  right: .2ex;\n",
       "  padding: .5ex;\n",
       "  margin: .5ex;\n",
       "  width: min-content;\n",
       "  min-width: 20ex;\n",
       "  max-width: 50ex;\n",
       "  color: var(--sklearn-color-text);\n",
       "  box-shadow: 2pt 2pt 4pt #999;\n",
       "  /* unfitted */\n",
       "  background: var(--sklearn-color-unfitted-level-0);\n",
       "  border: .5pt solid var(--sklearn-color-unfitted-level-3);\n",
       "}\n",
       "\n",
       ".sk-estimator-doc-link.fitted span {\n",
       "  /* fitted */\n",
       "  background: var(--sklearn-color-fitted-level-0);\n",
       "  border: var(--sklearn-color-fitted-level-3);\n",
       "}\n",
       "\n",
       ".sk-estimator-doc-link:hover span {\n",
       "  display: block;\n",
       "}\n",
       "\n",
       "/* \"?\"-specific style due to the `<a>` HTML tag */\n",
       "\n",
       "#sk-container-id-1 a.estimator_doc_link {\n",
       "  float: right;\n",
       "  font-size: 1rem;\n",
       "  line-height: 1em;\n",
       "  font-family: monospace;\n",
       "  background-color: var(--sklearn-color-background);\n",
       "  border-radius: 1rem;\n",
       "  height: 1rem;\n",
       "  width: 1rem;\n",
       "  text-decoration: none;\n",
       "  /* unfitted */\n",
       "  color: var(--sklearn-color-unfitted-level-1);\n",
       "  border: var(--sklearn-color-unfitted-level-1) 1pt solid;\n",
       "}\n",
       "\n",
       "#sk-container-id-1 a.estimator_doc_link.fitted {\n",
       "  /* fitted */\n",
       "  border: var(--sklearn-color-fitted-level-1) 1pt solid;\n",
       "  color: var(--sklearn-color-fitted-level-1);\n",
       "}\n",
       "\n",
       "/* On hover */\n",
       "#sk-container-id-1 a.estimator_doc_link:hover {\n",
       "  /* unfitted */\n",
       "  background-color: var(--sklearn-color-unfitted-level-3);\n",
       "  color: var(--sklearn-color-background);\n",
       "  text-decoration: none;\n",
       "}\n",
       "\n",
       "#sk-container-id-1 a.estimator_doc_link.fitted:hover {\n",
       "  /* fitted */\n",
       "  background-color: var(--sklearn-color-fitted-level-3);\n",
       "}\n",
       "</style><div id=\"sk-container-id-1\" class=\"sk-top-container\"><div class=\"sk-text-repr-fallback\"><pre>TabPFNRegressor(device=device(type=&#x27;cpu&#x27;), n_jobs=8)</pre><b>In a Jupyter environment, please rerun this cell to show the HTML representation or trust the notebook. <br />On GitHub, the HTML representation is unable to render, please try loading this page with nbviewer.org.</b></div><div class=\"sk-container\" hidden><div class=\"sk-item\"><div class=\"sk-estimator fitted sk-toggleable\"><input class=\"sk-toggleable__control sk-hidden--visually\" id=\"sk-estimator-id-1\" type=\"checkbox\" checked><label for=\"sk-estimator-id-1\" class=\"sk-toggleable__label fitted sk-toggleable__label-arrow fitted\">&nbsp;TabPFNRegressor<span class=\"sk-estimator-doc-link fitted\">i<span>Fitted</span></span></label><div class=\"sk-toggleable__content fitted\"><pre>TabPFNRegressor(device=device(type=&#x27;cpu&#x27;), n_jobs=8)</pre></div> </div></div></div></div>"
      ]
     },
     "execution_count": 6,
     "metadata": {},
     "output_type": "execute_result"
    }
   ],
   "execution_count": 6
  },
  {
   "metadata": {},
   "cell_type": "markdown",
   "source": [
    "When we have the \"trained\" model, we can use it to predict the house prices.\n",
    "These predictions are very competitive with the state-of-the-art models.\n",
    "Note that TabPFN at the end of the day is still quite a big transformer model, which needs a GPU to run efficiently."
   ],
   "id": "25603c1d4540f2c5"
  },
  {
   "metadata": {},
   "cell_type": "markdown",
   "source": "## Evaluate TabPFN",
   "id": "db580ea3627edae2"
  },
  {
   "metadata": {
    "ExecuteTime": {
     "end_time": "2025-01-09T14:26:06.514631Z",
     "start_time": "2025-01-09T14:23:49.733597Z"
    }
   },
   "cell_type": "code",
   "source": [
    "# we downsample the test data for more efficient inference\n",
    "x_test, y_test = x_test[:2000], y_test[:2000]\n",
    "predictions = model.predict(x_test)"
   ],
   "id": "d36110af9fa1b058",
   "outputs": [],
   "execution_count": 7
  },
  {
   "metadata": {
    "ExecuteTime": {
     "end_time": "2025-01-09T14:26:20.308666Z",
     "start_time": "2025-01-09T14:26:20.288667Z"
    }
   },
   "cell_type": "code",
   "source": [
    "from sklearn.metrics import mean_squared_error, r2_score\n",
    "import numpy as np\n",
    "\n",
    "mse = mean_squared_error(y_test, predictions)\n",
    "r2 = r2_score(y_test, predictions)\n",
    "print(\"MSE: \", mse, \"R2: \", r2)\n",
    "\n",
    "average_prediction = np.mean(predictions)\n",
    "print(\"Average prediction: \", average_prediction)"
   ],
   "id": "fdd1896b91cfbd4a",
   "outputs": [
    {
     "name": "stdout",
     "output_type": "stream",
     "text": [
      "MSE:  0.313356474514811 R2:  0.7624955351447615\n",
      "Average prediction:  2.0460324\n"
     ]
    }
   ],
   "execution_count": 8
  },
  {
   "metadata": {},
   "cell_type": "markdown",
   "source": [
    "## Explain TabPFN with shapiq\n",
    "Now that we see how TabPFN performs, we can use shapiq to explain the predictions.\n",
    "First, we will use the KernelSHAP method to explain the predictions."
   ],
   "id": "85a7dadbec463d65"
  },
  {
   "metadata": {
    "ExecuteTime": {
     "end_time": "2025-01-09T14:42:00.521476Z",
     "start_time": "2025-01-09T14:41:38.073888Z"
    }
   },
   "cell_type": "code",
   "source": [
    "x_explain = x_test[10]\n",
    "y_explain = y_test[10]\n",
    "\n",
    "prediction = model.predict(x_explain.reshape(1, -1))[0]\n",
    "print(\"Prediction: \", prediction)\n",
    "print(\"True value: \", y_explain)\n",
    "print(\"Average prediction: \", average_prediction)"
   ],
   "id": "15e30787bb74905",
   "outputs": [
    {
     "name": "stdout",
     "output_type": "stream",
     "text": [
      "Prediction:  2.774252\n",
      "True value:  2.938\n",
      "Average prediction:  2.0460324\n"
     ]
    }
   ],
   "execution_count": 12
  },
  {
   "metadata": {},
   "cell_type": "markdown",
   "source": [
    "### Traditional Explanation with Baseline Imputation\n",
    "The traditional way to explain any black-box model trained on tabular data is by using imputation strategies for feature removal (excellent [paper by Covert et al.](https://jmlr.csail.mit.edu/papers/volume22/20-1316/20-1316.pdf)).\n",
    "During explanations, the model is queried multiple times with different subsets of features removed.\n",
    "Removed features are imputed using different strategies, such as the baseline imputation.\n",
    "Baseline imputation replaces the removed features with the mean/mode of the training data.\n",
    "\n",
    "We can natively use the shapiq.Explainer (specifically shapiq.TabularExplainer) to explain the TabPFN model:"
   ],
   "id": "b225c897c1181eee"
  },
  {
   "metadata": {
    "ExecuteTime": {
     "end_time": "2025-01-09T13:38:22.029136Z",
     "start_time": "2025-01-09T13:38:22.015135Z"
    }
   },
   "cell_type": "code",
   "source": [
    "explainer = shapiq.Explainer(model, data=x_test, index=\"SV\", max_order=1, imputer=\"baseline\")\n",
    "explainer._imputer.verbose = True  # see the explanation progress\n",
    "\n",
    "sv = explainer.explain(x_explain)\n",
    "sv.plot_force(feature_names=feature_names)"
   ],
   "id": "41314e231db2e986",
   "outputs": [],
   "execution_count": 34
  },
  {
   "metadata": {},
   "cell_type": "markdown",
   "source": [
    "### Explaining TabPFN with Remove-and-\"Retrain\"\n",
    "\n",
    "Since TabPFN is a foundation model, it uses in-context learning to solve the classification and regression tasks.\n",
    "This means that \"retraining\" the model is quite inexpensive, because we only need to provide the new data points with whatever features we want to remove.\n",
    "A nice paper by [Rundel et al.](https://arxiv.org/pdf/2403.10923) shows that this strategy is very effective for explaining models like TabPFN.\n",
    "\n",
    "Because of ``shapiq``'s notion of cooperative games, we can easily implement the remove-and-\"retrain\" strategy for TabPFN as game.\n",
    "The game takes the model, the training data, the explanation data, and the average prediction as input.\n",
    "The value function of the game performs the remove-and-\"retrain\" strategy for TabPFN and returns the predictions for the coalitions."
   ],
   "id": "cdba7867ce6fbbb0"
  },
  {
   "metadata": {
    "ExecuteTime": {
     "end_time": "2025-01-09T14:42:33.870941Z",
     "start_time": "2025-01-09T14:42:33.859953Z"
    }
   },
   "cell_type": "code",
   "source": [
    "class TabPFNGame(shapiq.Game):\n",
    "    \"\"\"The TabPFN Game class implementation a remove-and-\"retrain\" strategy to explain the predictions of TabPFN.\n",
    "\n",
    "    Args:\n",
    "        model: The TabPFN model.\n",
    "        x_train: The training data.\n",
    "        y_train: The training labels.\n",
    "        x_explain: The data point to explain.\n",
    "        average_prediction: The average prediction of the model.\n",
    "    \"\"\"\n",
    "\n",
    "    def __init__(self, model, x_train, y_train, x_explain, average_prediction):\n",
    "        self.model = model\n",
    "        self.x_train = x_train\n",
    "        self.y_train = y_train\n",
    "        self.x_explain = x_explain\n",
    "        self.average_prediction = average_prediction\n",
    "\n",
    "        print(\"Initializing TabPFN Game\")\n",
    "        print(\"Train data shape: \", x_train.shape, y_train.shape)\n",
    "        print(\"Explain data shape: \", x_explain.shape)\n",
    "\n",
    "        super().__init__(n_players=x_train.shape[1], normalization_value=self.average_prediction)\n",
    "\n",
    "    def value_function(self, coalitions: np.ndarray) -> np.ndarray:\n",
    "        \"\"\"The value function performs the remove-and-\"retrain\" strategy for TabPFN.\"\"\"\n",
    "        output = np.zeros(len(coalitions), dtype=float)\n",
    "        for i, coalition in enumerate(coalitions):\n",
    "            if sum(coalition) == 0:\n",
    "                output[i] = self.average_prediction\n",
    "                continue\n",
    "            x_train_coal = self.x_train[:, coalition]\n",
    "            x_explain_coal = self.x_explain[coalition].reshape(1, -1)\n",
    "            self.model.fit(x_train_coal, self.y_train)\n",
    "            pred = float(self.model.predict(x_explain_coal)[0])\n",
    "            output[i] = pred\n",
    "        return output"
   ],
   "id": "37a977c5f4a88aee",
   "outputs": [],
   "execution_count": 13
  },
  {
   "metadata": {},
   "cell_type": "markdown",
   "source": "With this game implementation we can now use helper functions from ``shapiq.Game`` like ``precompute`` to precompute the values of the game to speed up the explanation process.",
   "id": "c8b473a6c67a54a2"
  },
  {
   "metadata": {
    "ExecuteTime": {
     "end_time": "2025-01-09T15:43:32.323302Z",
     "start_time": "2025-01-09T14:42:43.034242Z"
    }
   },
   "cell_type": "code",
   "source": [
    "tabpfn_game = TabPFNGame(model, x_train, y_train, x_explain, average_prediction)\n",
    "tabpfn_game.verbose = True  # see the pre-computation progress\n",
    "tabpfn_game.precompute()\n",
    "tabpfn_game.save_values(\"tabpfn_values.npz\")  # save values for later"
   ],
   "id": "7b2606969b5bab0",
   "outputs": [
    {
     "name": "stdout",
     "output_type": "stream",
     "text": [
      "Initializing TabPFN Game\n",
      "Train data shape:  (500, 8) (500,)\n",
      "Explain data shape:  (8,)\n"
     ]
    },
    {
     "data": {
      "text/plain": [
       "Evaluating game:   0%|          | 0/256 [00:00<?, ? coalition/s]"
      ],
      "application/vnd.jupyter.widget-view+json": {
       "version_major": 2,
       "version_minor": 0,
       "model_id": "56abb4bfbed1432d9b1fec1ed8229322"
      }
     },
     "metadata": {},
     "output_type": "display_data"
    }
   ],
   "execution_count": 14
  },
  {
   "metadata": {
    "ExecuteTime": {
     "end_time": "2025-01-09T15:49:05.221527Z",
     "start_time": "2025-01-09T15:49:05.210527Z"
    }
   },
   "cell_type": "code",
   "source": [
    "# re-load the game\n",
    "tabpfn_game = shapiq.Game(path_to_values=\"tabpfn_values.npz\", normalize=False)"
   ],
   "id": "a96e3795ea1df8a0",
   "outputs": [],
   "execution_count": 15
  },
  {
   "metadata": {},
   "cell_type": "markdown",
   "source": "Now that we have evaluated all $2^d$ coalitions, we can use ``shapiq.ExactComputer`` to compute any kind of game-theoretic explanation.",
   "id": "1d7f391c3f67721e"
  },
  {
   "metadata": {
    "ExecuteTime": {
     "end_time": "2025-01-09T15:49:07.000073Z",
     "start_time": "2025-01-09T15:49:06.965071Z"
    }
   },
   "cell_type": "code",
   "source": [
    "exact_computer = shapiq.ExactComputer(n_players=tabpfn_game.n_players, game_fun=tabpfn_game)\n",
    "sv = exact_computer(index=\"SV\", order=1)  # compute the Shapley values\n",
    "fsii = exact_computer(index=\"FSII\", order=2)  # compute Faithful Shapley Interaction values"
   ],
   "id": "1887b05e6bd7cda8",
   "outputs": [],
   "execution_count": 16
  },
  {
   "metadata": {
    "ExecuteTime": {
     "end_time": "2025-01-09T15:49:10.264683Z",
     "start_time": "2025-01-09T15:49:09.377875Z"
    }
   },
   "cell_type": "code",
   "source": "sv.plot_force(feature_names=feature_names)",
   "id": "7bfdd3a9e1ff6b1d",
   "outputs": [
    {
     "data": {
      "text/plain": [
       "<Figure size 2000x300 with 1 Axes>"
      ],
      "image/png": "[encoded data removed]"
     },
     "metadata": {},
     "output_type": "display_data"
    }
   ],
   "execution_count": 17
  },
  {
   "metadata": {
    "ExecuteTime": {
     "end_time": "2025-01-09T15:49:10.671694Z",
     "start_time": "2025-01-09T15:49:10.265674Z"
    }
   },
   "cell_type": "code",
   "source": "fsii.plot_force(feature_names=feature_names)",
   "id": "7df6eae3201659ab",
   "outputs": [
    {
     "data": {
      "text/plain": [
       "<Figure size 2000x300 with 1 Axes>"
      ],
      "image/png": "[encoded data removed]"
     },
     "metadata": {},
     "output_type": "display_data"
    }
   ],
   "execution_count": 18
  },
  {
   "metadata": {},
   "cell_type": "markdown",
   "source": "We can also approximate the game using KernelSHAP:",
   "id": "baf13f27f8b50652"
  },
  {
   "metadata": {
    "ExecuteTime": {
     "end_time": "2025-01-09T15:49:12.460836Z",
     "start_time": "2025-01-09T15:49:12.441828Z"
    }
   },
   "cell_type": "code",
   "source": [
    "approximator = shapiq.KernelSHAP(n=tabpfn_game.n_players, random_state=42)\n",
    "sv = approximator.approximate(budget=100, game=tabpfn_game)\n",
    "sv.baseline_value = average_prediction"
   ],
   "id": "7203ae35139cc10a",
   "outputs": [],
   "execution_count": 19
  },
  {
   "metadata": {
    "ExecuteTime": {
     "end_time": "2025-01-09T15:49:14.514229Z",
     "start_time": "2025-01-09T15:49:14.499231Z"
    }
   },
   "cell_type": "code",
   "source": "sv.baseline_value",
   "id": "5258964a22c66031",
   "outputs": [
    {
     "data": {
      "text/plain": [
       "2.0460324"
      ]
     },
     "execution_count": 20,
     "metadata": {},
     "output_type": "execute_result"
    }
   ],
   "execution_count": 20
  },
  {
   "metadata": {
    "ExecuteTime": {
     "end_time": "2025-01-09T15:49:17.275190Z",
     "start_time": "2025-01-09T15:49:16.992815Z"
    }
   },
   "cell_type": "code",
   "source": [
    "sv.plot_force(feature_names=feature_names)\n",
    "sv.dict_values"
   ],
   "id": "c0baa11868d4769e",
   "outputs": [
    {
     "data": {
      "text/plain": [
       "<Figure size 2000x300 with 1 Axes>"
      ],
      "image/png": "[encoded data removed]"
     },
     "metadata": {},
     "output_type": "display_data"
    },
    {
     "data": {
      "text/plain": [
       "{(): 0.0,\n",
       " (0,): -0.11543297276783156,\n",
       " (1,): -0.01829630308819613,\n",
       " (2,): -0.02245987510734033,\n",
       " (3,): -0.019211207803047345,\n",
       " (4,): -0.16020457476047298,\n",
       " (5,): 0.6133794761867309,\n",
       " (6,): -0.06019559477215868,\n",
       " (7,): 0.5106405646027524}"
      ]
     },
     "execution_count": 22,
     "metadata": {},
     "output_type": "execute_result"
    }
   ],
   "execution_count": 22
  }
 ],
 "metadata": {
  "kernelspec": {
   "display_name": "Python 3",
   "language": "python",
   "name": "python3"
  },
  "language_info": {
   "codemirror_mode": {
    "name": "ipython",
    "version": 2
   },
   "file_extension": ".py",
   "mimetype": "text/x-python",
   "name": "python",
   "nbconvert_exporter": "python",
   "pygments_lexer": "ipython2",
   "version": "2.7.6"
  }
 },
 "nbformat": 4,
 "nbformat_minor": 5
}
