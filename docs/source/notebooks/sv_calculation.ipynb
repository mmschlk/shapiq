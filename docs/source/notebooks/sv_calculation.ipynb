{
 "cells": [
  {
   "cell_type": "markdown",
   "source": [
    "# Shapley Value Calculation\n",
    "A popular approach to tackle the problem of XAI is to use concepts from game theory in particular cooperative game theory.\n",
    "The most popular method is to use the **Shapley Values** named after Lloyd Shapley, who introduced it in 1951 with his work *\"II: The Value of an n-Person Game\"*.\n",
    "We divide  the notebook into two parts, the first part introducing the mathematical background of cooperative game theory.\n",
    "The second part shows how to calculate Shapley values with the `shapiq` library for given machine learning model.\n",
    "For practitioners the second part might be most important, but we would highly incourage to read the first part to understand the mathematical implications of Shapley values.\n",
    "1. **Introduction to Cooperative Game Theory and Shapley Values**\n",
    "Here we introduce the mathematical background for computing Shapley values and illustrate the concept with a simple example.\n",
    "2. **Explainable AI with Shapley Value**\n",
    "Here we show how Shapley values can be used to explain the predictions of machine learning models.\n",
    "\n",
    "\n",
    "## Cooperative Game Theory\n",
    "Cooperative game theory deals with the study of games in which players/participants can form groups to achieve a collective payoff. More formally a cooperative game is defined as a tuple $(N,\\nu)$ where:\n",
    "- $N$ is a finite set of players\n",
    "- $\\nu$ is a characteristic function that maps every coalition of players to a real number, i.e. $\\nu:2^N \\rightarrow \\mathbb{R}$\n",
    "\n",
    "Of particular interest is to find a concept that distributes the payoff of $\\nu(N)$ among the players, as it is assumed that the *grand coalition* $N$ is formed.\n",
    "The distribution of the payoff among the players is called a *solution concept*.\n",
    "\n",
    "### Shapley Values: A Unique Solution Concept\n",
    "Given a cooperative game $(N,\\nu)$, the Shapley value is a payoff vector dividing the total payoff $\\nu(N)$ among the players. The Shapley value of player $i$ is denoted by $\\phi_i(\\nu)$ and is defined as:\n",
    "$$\n",
    "\\phi_i(\\nu) := \\sum_{S \\subseteq N \\setminus \\{i\\}} \\frac{|S|!(|N|-|S|-1)!}{|N|!} [\\nu(S \\cup \\{i\\}) - \\nu(S)]\n",
    "$$\n",
    "and can be interpreted as the average marginal contribution of player $i$ across all possible permutations of the players.\n",
    "Its popularity arises from uniquely satisfies the following properties:\n",
    "- **Efficiency**: The sum of the Shapley values equals the total payoff, i.e. $\\sum_{i \\in N} \\phi_i(\\nu) = \\nu(N)$.\n",
    "This property ensures that the total payoff is distributed among all players.\n",
    "\n",
    "- **Symmetry**: If two players $i$ and $j$ are such that for all coalitions $S \\subseteq N \\setminus \\{i,j\\}$, $\\nu(S \\cup \\{i\\}) = \\nu(S \\cup \\{j\\})$, then $\\phi_i(\\nu) = \\phi_j(\\nu)$.\n",
    "Symmetry implies that players with equal contributions receive equal payoffs.\n",
    "\n",
    "- **Additivity**: For a game $(N,\\nu + \\mu)$ based on two games $(N,\\nu)$ and $(N,\\mu)$, the Shapley value of the sum of the games is the sum of the Shapley values, i.e. $\\phi_i(\\nu + \\mu) = \\phi_i(\\nu) + \\phi_i(\\mu)$.\n",
    "Through Additivity we gain the possibility of calculating the Shapley value for smaller games and summing them up to receive the Shapley value for the larger game.\n",
    "\n",
    "- **Dummy Player**: If for a player $i$ is holds for all coalitions $S \\subseteq N \\setminus \\{i\\}$, $\\nu(S \\cup \\{i\\}) - \\nu(S) = \\nu(\\{i\\})$ then $\\phi_i(\\nu) = \\nu(\\{i\\})$.\n",
    "Through the Dummy Player property, player that not contribute at all receive a value of zero.\n",
    "\n",
    "### Shapley Values: Cooking Game\n",
    "To illustrate the concept of Shapley values, we consider a simple example of a cooking game.\n",
    "The game consists of three cooks, Alice, Bob, and Charlie, who are preparing a meal together.\n",
    "The characteristic function $\\nu$ maps each coalition of players to the quality of the meal.\n",
    "| Coalition | Quality |\n",
    "|-----------|---------|\n",
    "|           | 0       |\n",
    "| {Alice}   | 2       |\n",
    "| {Bob}     | 3       |\n",
    "| {Charlie} | 4       |\n",
    "| {Alice, Bob} | 7    |\n",
    "| {Alice, Charlie} | 8 |\n",
    "| {Bob, Charlie} | 9 |\n",
    "| {Alice, Bob, Charlie} | 15 |\n",
    "\n",
    "The chef of the restaurant is now interested in, which cook is the most talented one and would like to distribute a bonus accordingly.\n",
    "To calculate the Shapley values in `shapiq` we need to define a game instance with the characteristic function and the value function. To do this we create a class `CookingGame` that inherits from the `Game`."
   ],
   "metadata": {
    "collapsed": false
   }
  },
  {
   "cell_type": "code",
   "execution_count": 22,
   "outputs": [],
   "source": [
    "import numpy as np\n",
    "from shapiq.games import Game\n",
    "\n",
    "\n",
    "class CookingGame(Game):\n",
    "    def __init__(self):\n",
    "        super().__init__(n_players=3, normalize=True, normalization_value=0)\n",
    "        self.playerid_to_names = {0: \"Alice\", 1: \"Bob\", 2: \"Charlie\"}\n",
    "        self.characteristic_function = {\n",
    "            (): 0,\n",
    "            (0,): 2,\n",
    "            (1,): 3,\n",
    "            (2,): 4,\n",
    "            (0, 1): 7,\n",
    "            (0, 2): 8,\n",
    "            (1, 2): 9,\n",
    "            (0, 1, 2): 15,\n",
    "        }\n",
    "\n",
    "    def value_function(self, coalitions: np.ndarray) -> np.ndarray:\n",
    "        return np.array(\n",
    "            [\n",
    "                self.characteristic_function[tuple(np.where(coalition)[0])]\n",
    "                for coalition in coalitions\n",
    "            ]\n",
    "        )\n",
    "\n",
    "\n",
    "cooking_game = CookingGame()"
   ],
   "metadata": {
    "collapsed": false,
    "ExecuteTime": {
     "end_time": "2024-10-25T15:01:03.460909Z",
     "start_time": "2024-10-25T15:01:03.447104Z"
    }
   }
  },
  {
   "cell_type": "markdown",
   "source": [
    "In the next step we will use the `ExactComputer` to calculate the Shapley values for the cooking game."
   ],
   "metadata": {
    "collapsed": false
   }
  },
  {
   "cell_type": "code",
   "execution_count": 23,
   "outputs": [
    {
     "data": {
      "text/plain": "<Figure size 640x480 with 1 Axes>",
      "image/png": "[encoded data removed]"
     },
     "metadata": {},
     "output_type": "display_data"
    }
   ],
   "source": [
    "from shapiq.exact import ExactComputer\n",
    "\n",
    "exact_computer = ExactComputer(n_players=cooking_game.n_players, game_fun=cooking_game)\n",
    "\n",
    "# Compute the Shapley Values for the game\n",
    "sv_exact = exact_computer(index=\"SV\")\n",
    "\n",
    "# Extract the Shapley Values form the Interaction object\n",
    "shapley_values = sv_exact.values\n",
    "\n",
    "# Visualize the Shapley Values\n",
    "sv_exact.plot_stacked_bar(\n",
    "    xlabel=\"Cooks\", ylabel=\"Shapley Values\", feature_names=[\"Alice\", \"Bob\", \"Charlie\"]\n",
    ")"
   ],
   "metadata": {
    "collapsed": false,
    "ExecuteTime": {
     "end_time": "2024-10-25T15:01:03.539975Z",
     "start_time": "2024-10-25T15:01:03.475680Z"
    }
   }
  },
  {
   "cell_type": "markdown",
   "source": [
    "Based on the Shapley Values we can interpret, that Charlie is the most important cook in the cooking game, as he has the highest value. Thus the chef would give Charlie the highest, Bob the second highest and Alice the lowest bonus."
   ],
   "metadata": {
    "collapsed": false
   }
  },
  {
   "cell_type": "markdown",
   "source": [
    "## Explainable AI with Shapley Values"
   ],
   "metadata": {
    "collapsed": false
   }
  }
 ],
 "metadata": {
  "kernelspec": {
   "display_name": "Python 3",
   "language": "python",
   "name": "python3"
  },
  "language_info": {
   "codemirror_mode": {
    "name": "ipython",
    "version": 2
   },
   "file_extension": ".py",
   "mimetype": "text/x-python",
   "name": "python",
   "nbconvert_exporter": "python",
   "pygments_lexer": "ipython2",
   "version": "2.7.6"
  }
 },
 "nbformat": 4,
 "nbformat_minor": 0
}
