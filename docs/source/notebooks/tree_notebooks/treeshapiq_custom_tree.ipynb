{
 "cells": [
  {
   "cell_type": "markdown",
   "metadata": {},
   "source": [
    "# TreeSHAP-IQ for Custom Tree Models\n",
    "\n",
    "This tutorial demonstrates how to use the `TreeExplainer` class of `shapiq` to explain any custom tree model.\n",
    "\n",
    "Here, we will create a tree model from scratch with three simple decision rules and the well-known **Play Tennis** dataset.\n",
    "Then we will use the `TreeExplainer` class to explain the model's predictions."
   ]
  },
  {
   "cell_type": "markdown",
   "metadata": {},
   "source": "### Import Modules"
  },
  {
   "cell_type": "code",
   "metadata": {
    "ExecuteTime": {
     "end_time": "2025-03-11T12:34:02.666223Z",
     "start_time": "2025-03-11T12:34:01.783096Z"
    }
   },
   "source": [
    "import numpy as np\n",
    "\n",
    "import shapiq\n",
    "\n",
    "{\"shapiq\": shapiq.__version__}"
   ],
   "outputs": [
    {
     "data": {
      "text/plain": [
       "{'shapiq': '1.2.2'}"
      ]
     },
     "execution_count": 1,
     "metadata": {},
     "output_type": "execute_result"
    }
   ],
   "execution_count": 1
  },
  {
   "metadata": {},
   "cell_type": "markdown",
   "source": [
    "### The Play Tennis Dataset\n",
    "\n",
    "We will be using the **Play Tennis** dataset, which has the following features:\n",
    "- Outlook: Sunny / Overcast / Rainy\n",
    "- Temperature: Hot / Mild / Cool\n",
    "- Humidity: High / Normal\n",
    "- Wind: Weak / Strong\n",
    "- Play Tennis: Yes / No\n",
    "\n",
    "The data looks as follows:\n",
    "\n",
    "| Day | Outlook  | Temperature | Humidity | Wind   | Play Tennis |\n",
    "|-----|----------|-------------|----------|--------|-------------|\n",
    "| 1   | Sunny    | Hot         | High     | Weak   | No          |\n",
    "| 2   | Sunny    | Hot         | High     | Strong | No          |\n",
    "| 3   | Overcast | Hot         | High     | Weak   | Yes         |\n",
    "| 4   | Rainy    | Mild        | High     | Weak   | Yes         |\n",
    "| 5   | Rainy    | Cool        | Normal   | Weak   | Yes         |\n",
    "| 6   | Rainy    | Cool        | Normal   | Strong | No          |\n",
    "| 7   | Overcast | Cool        | Normal   | Strong | Yes         |\n",
    "| 8   | Sunny    | Mild        | High     | Weak   | No          |\n",
    "| 9   | Sunny    | Cool        | Normal   | Weak   | Yes         |\n",
    "| 10  | Rainy    | Mild        | Normal   | Weak   | Yes         |\n",
    "| 11  | Sunny    | Mild        | Normal   | Strong | Yes         |\n",
    "| 12  | Overcast | Mild        | High     | Strong | Yes         |\n",
    "| 13  | Overcast | Hot         | Normal   | Weak   | Yes         |\n",
    "| 14  | Rainy    | Mild        | High     | Strong | No          |\n",
    "\n",
    "As usual for most tree models features need to be numerical. We will encode the features as follows:\n",
    "- Outlook: Sunny (1), Overcast (2), Rainy (3)\n",
    "- Temperature: Hot (1), Mild (2), Cool (3)\n",
    "- Humidity: High (1), Normal (2)\n",
    "- Wind: Weak (1), Strong (2)\n",
    "- Play Tennis: Yes (1), No (0)"
   ]
  },
  {
   "metadata": {
    "ExecuteTime": {
     "end_time": "2025-03-11T12:34:02.675413Z",
     "start_time": "2025-03-11T12:34:02.671871Z"
    }
   },
   "cell_type": "code",
   "source": [
    "# create the dataset\n",
    "X = np.array(\n",
    "    [\n",
    "        [1, 1, 1, 1],\n",
    "        [1, 1, 1, 2],\n",
    "        [2, 1, 1, 1],\n",
    "        [3, 2, 1, 1],\n",
    "        [3, 3, 2, 1],\n",
    "        [3, 3, 2, 2],\n",
    "        [2, 3, 2, 2],\n",
    "        [1, 2, 1, 1],\n",
    "        [1, 3, 2, 1],\n",
    "        [3, 2, 2, 1],\n",
    "        [1, 2, 2, 2],\n",
    "        [2, 2, 1, 2],\n",
    "        [2, 1, 2, 1],\n",
    "        [3, 2, 1, 2],\n",
    "    ]\n",
    ")\n",
    "y = np.array([0, 0, 1, 1, 1, 0, 1, 0, 1, 1, 1, 1, 1, 0])"
   ],
   "outputs": [],
   "execution_count": 2
  },
  {
   "metadata": {},
   "cell_type": "markdown",
   "source": [
    "\n",
    "### Define a Custom Tree Model\n",
    "We will define a custom tree model with three simple decision rules (note the tree will not predict the same as the original dataset):\n",
    "\n",
    "1. If Outlook is rainy then don't play tennis.\n",
    "2. If Outlook is not rainy, and Humidity is high then don't play tennis.\n",
    "3. If Outlook is not rainy, Humidity is normal, and Wind is strong then don't play tennis.\n",
    "    \n",
    "```python\n",
    "if Outlook == 3:\n",
    "    return 0\n",
    "else:\n",
    "    if Humidity == 1:\n",
    "        return 0\n",
    "    else:\n",
    "        if Wind == 2:\n",
    "            return 0\n",
    "        else:\n",
    "            return 1\n",
    "```\n",
    "   \n",
    "This can be drawn by the following tree structure:\n",
    "    \n",
    "    ```\n",
    "        #0: Outlook\n",
    "        /         \\       \n",
    "       #1: 0      #2: Humidity\n",
    "                  /           \\\n",
    "                 #3: 0        #4: Wind\n",
    "                             /        \\\n",
    "                            #5: 0     #6: 1\n",
    "    ```\n",
    "    \n",
    "To model this tree, we will need to create a custom tree model. We can define a custom model by creating a `shapiq.TreeModel`.\n",
    "Both the TreeModel object or the dictionary should have the following keys:\n",
    "- `children_left`: The left child of each node. For leaf nodes, this should be -1.\n",
    "- `children_right`: The right child of each node. For leaf nodes, this should be -1.\n",
    "- `features`: The feature id used for splitting at each node. For leaf nodes, this should be -2.\n",
    "- `thresholds`: The threshold value used for splitting at each node. For leaf nodes, this should be -2.\n",
    "- `values`: The output value at each leaf node.\n",
    "- `node_sample_weight`: The sample weight at each node.\n",
    "\n",
    "In total our tree will have 7 nodes (3 decision nodes and 4 leaf nodes).\n",
    "The first node (node 0) is always the root node. \n",
    "So the left child of the root node is node 1 and the right child is node 2.\n",
    "Node 1 is already a leaf node, predicting 0.\n",
    "Node 2 again is a decision node with children 3 and 4."
   ]
  },
  {
   "metadata": {
    "ExecuteTime": {
     "end_time": "2025-03-11T12:34:02.766868Z",
     "start_time": "2025-03-11T12:34:02.753675Z"
    }
   },
   "cell_type": "code",
   "source": [
    "# define the custom tree model\n",
    "\n",
    "# this is how the nodes are arranged in the tree\n",
    "nodes = [0, 1, 2, 3, 4, 5, 6]\n",
    "\n",
    "tree = {\n",
    "    \"children_left\": np.array([1, -1, 3, -1, 5, -1, -1]),\n",
    "    \"children_right\": np.array([2, -1, 4, -1, 6, -1, -1]),\n",
    "    \"features\": np.array([0, -2, 2, -2, 3, -2, -2]),\n",
    "    \"thresholds\": np.array([2.5, -2, 1.5, -2, 1.5, -2, -2]),\n",
    "    \"values\": np.array([0.5, 0.0, 0.5, 0.0, 0.0, 0.0, 1.0]),\n",
    "    \"node_sample_weight\": np.array([14, 5, 9, 5, 4, 1, 3]),\n",
    "}\n",
    "tree = shapiq.explainer.tree.TreeModel(**tree)"
   ],
   "outputs": [],
   "execution_count": 3
  },
  {
   "metadata": {
    "ExecuteTime": {
     "end_time": "2025-03-11T12:34:02.820183Z",
     "start_time": "2025-03-11T12:34:02.808067Z"
    }
   },
   "cell_type": "code",
   "source": [
    "# create tree explainer\n",
    "explainer = shapiq.TreeExplainer(model=tree, index=\"SV\", max_order=1)\n",
    "shapley_values = explainer.explain(X[5])\n",
    "print(shapley_values)"
   ],
   "outputs": [
    {
     "name": "stdout",
     "output_type": "stream",
     "text": [
      "InteractionValues(\n",
      "    index=SV, max_order=1, min_order=0, estimated=False, estimation_budget=None,\n",
      "    n_players=4, baseline_value=0.21428571428571427,\n",
      "    Top 10 interactions:\n",
      "        (2,): 0.4034391534391534\n",
      "        (0,): 0.22982804232804224\n",
      "        (): 0.21428571428571427\n",
      "        (3,): 0.15244708994708994\n",
      ")\n"
     ]
    }
   ],
   "execution_count": 4
  },
  {
   "metadata": {
    "ExecuteTime": {
     "end_time": "2025-03-11T12:34:02.928315Z",
     "start_time": "2025-03-11T12:34:02.824520Z"
    }
   },
   "cell_type": "code",
   "source": "shapley_values.plot_force(feature_names=[\"Outlook\", \"Temperature\", \"Humidity\", \"Wind\"])",
   "outputs": [
    {
     "data": {
      "text/plain": [
       "<Figure size 1500x400 with 1 Axes>"
      ],
      "image/png": "[encoded data removed]"
     },
     "metadata": {},
     "output_type": "display_data"
    }
   ],
   "execution_count": 5
  }
 ],
 "metadata": {
  "kernelspec": {
   "display_name": "shapiq2",
   "language": "python",
   "name": "python3"
  },
  "language_info": {
   "codemirror_mode": {
    "name": "ipython",
    "version": 3
   },
   "file_extension": ".py",
   "mimetype": "text/x-python",
   "name": "python",
   "nbconvert_exporter": "python",
   "pygments_lexer": "ipython3",
   "version": "3.11.9"
  }
 },
 "nbformat": 4,
 "nbformat_minor": 2
}
